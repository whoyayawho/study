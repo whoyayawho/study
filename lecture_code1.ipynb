{
  "nbformat": 4,
  "nbformat_minor": 0,
  "metadata": {
    "colab": {
      "name": "lecture_code1.ipynb",
      "version": "0.3.2",
      "provenance": [],
      "collapsed_sections": [],
      "include_colab_link": true
    },
    "kernelspec": {
      "name": "python3",
      "display_name": "Python 3"
    },
    "accelerator": "GPU"
  },
  "cells": [
    {
      "cell_type": "markdown",
      "metadata": {
        "id": "view-in-github",
        "colab_type": "text"
      },
      "source": [
        "<a href=\"https://colab.research.google.com/github/smkang0521-soslab/study/blob/master/lecture_code1.ipynb\" target=\"_parent\"><img src=\"https://colab.research.google.com/assets/colab-badge.svg\" alt=\"Open In Colab\"/></a>"
      ]
    },
    {
      "cell_type": "markdown",
      "metadata": {
        "id": "bHUnv9MB2sKU",
        "colab_type": "text"
      },
      "source": [
        "# About Python\n",
        "\n",
        "\n",
        "\n",
        "![파이썬로고](https://www.python.org/static/opengraph-icon-200x200.png)\n",
        "![귀도 반 로섬](data:image/jpeg;base64,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)\n",
        "\n",
        "* 1990년 암스테르담의 귀도 반 로섬이 개발한 인터프리터 언어 (*인터프리터 언어 -한 줄씩 소스 코드를 해석해서 그때그때 실행해 결과를 바로 확인할 수 있는 언어)\n",
        "\n",
        "* 좋아하는 코미디 쇼인 '몬티 파이썬의 날아다니는 서커스(Monty Python's Flying Circus)\n",
        "\n",
        "* 구글에서 만들어진 소프트 웨어의 50%이상\n",
        "\n",
        "![dropboxlogo](data:image/jpeg;base64,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)\n",
        "![django](http://schoolofweb.net/media/thumbnail/django-thumbnail-300x300.png)\n",
        "\n",
        "\n",
        "* 파이썬 프로그램은 공동 작업과 유지 보수가 매우 쉽고 편하다. 그래서 이미 다른 언어들로 작성된 많은 프로그램들과 모듈들이 파이썬으로 재구성\n",
        "\n",
        "---\n",
        "\n",
        "# Python의 특징\n",
        "\n",
        "1. 인간다운 언어\n",
        "\n",
        "    * 사람이 생각하는 방식을 그대로 표현할 수 있는 언어\n",
        "\n",
        "\n",
        "        if 4 in [1, 2, 3, 4]; print(\"4가 있습니다.\")\n",
        "\n",
        "\n",
        "2. 문법이 쉬움\n",
        "\n",
        "    * 유명한 프로그래머인 에릭 레이먼드(Eric Raymond)는 파이썬을 공부한 지 단 하루 만에 자신이 원하는 프로그램을 작성할 수 있었다고 한다.\n",
        "    \n",
        "3.  무료이지만 강력함\n",
        "\n",
        "    * 언제 어디서든 다운로드 할 수 있고 만들고자하는 프로그램들의 대부분을 파이썬으로 만들 수 있다. \n",
        "    * 물론 시스템 프로그래밍이나 하드웨어 제어와 같은 매우 복잡하고 반복 연산이 많은 프로그램은 파이썬과 어울리지 않는다. BUT 다른 언어로 만든 프로그램을 파이썬 프로그램에 포함시킬 수 있다.\n",
        "\n",
        "    * 파이썬은 C와 찰떡궁합?!\n",
        "\n",
        "4. 간결함\n",
        "\n",
        "    * 가장 좋은 방법 1가지만 이용하는 것을 선호 = 간결함의 철학\n",
        "    * 문법에도 적용되어 파이썬 프로그래밍하는 사람들은 잘 정리되어 있는소스 코드를 볼 수 있다. 다른사람이 작업한 소스코드도 한눈에  이해하기 쉽기 때문에 공동 작업과 유지 보수가 아주 쉽고 편하다.\n",
        "\n",
        "    \n",
        "\n"
      ]
    },
    {
      "cell_type": "code",
      "metadata": {
        "id": "DOaV5l0Ut69o",
        "colab_type": "code",
        "outputId": "6f379cfe-9298-40c6-f2b8-25745f91235c",
        "colab": {
          "base_uri": "https://localhost:8080/",
          "height": 87
        }
      },
      "source": [
        " # simple.py\n",
        "        languages = ['python','perl', 'c', 'java']\n",
        "        \n",
        "        for lang in languages:\n",
        "        \tif lang in ['python', 'perl']:\n",
        "        \t\tprint(\"%6s need interpreter\" % lang)\n",
        "        \telif lang in ['c', 'java']:\n",
        "        \t\tprint(\"%6s need complier\" % lang)\n",
        "        \telse:\n",
        "        \t\tprint(\"should not reach here\")"
      ],
      "execution_count": 0,
      "outputs": [
        {
          "output_type": "stream",
          "text": [
            "python need interpreter\n",
            "  perl need interpreter\n",
            "     c need complier\n",
            "  java need complier\n"
          ],
          "name": "stdout"
        }
      ]
    },
    {
      "cell_type": "markdown",
      "metadata": {
        "id": "9O8bO9VIuBks",
        "colab_type": "text"
      },
      "source": [
        "\n",
        "        * 다른 언어들에서 늘 보게되는 단락을 구분하는 괄호({}) 문자가 보이지 않는 것을 확인할 수 있다. \n",
        "  \n",
        "        * 줄을 참 잘 맞춘 코드라는 것도 알 수 있다.(파이썬 코드는 줄을 맞추지 않으면 실행이 되지 않는다.)\n",
        "\n",
        "\n",
        "5. 개발 속도 빠름\n",
        "\n",
        "    \"Life is too short, You need Python.\"\n",
        "\n"
      ]
    },
    {
      "cell_type": "markdown",
      "metadata": {
        "id": "SvObXYz2VSZJ",
        "colab_type": "text"
      },
      "source": [
        "---\n",
        "# 우리들의 실습환경!\n",
        "# Start at Google Colaboratory\n",
        "\n",
        "3분 길이의 동영상을 통해 Colaboratory의 주요 기능을 간단하게 알아보실 수 있습니다."
      ]
    },
    {
      "cell_type": "code",
      "metadata": {
        "id": "otZ_FfmKJAyF",
        "colab_type": "code",
        "outputId": "3ba559d5-00a2-4003-cdd6-e4a9df8924ab",
        "colab": {
          "base_uri": "https://localhost:8080/",
          "height": 419
        }
      },
      "source": [
        "from IPython.display import YouTubeVideo\n",
        "YouTubeVideo('inN8seMm7UI', width=600, height=400)"
      ],
      "execution_count": 0,
      "outputs": [
        {
          "output_type": "execute_result",
          "data": {
            "text/html": [
              "\n",
              "        <iframe\n",
              "            width=\"600\"\n",
              "            height=\"400\"\n",
              "            src=\"https://www.youtube.com/embed/inN8seMm7UI\"\n",
              "            frameborder=\"0\"\n",
              "            allowfullscreen\n",
              "        ></iframe>\n",
              "        "
            ],
            "text/plain": [
              "<IPython.lib.display.YouTubeVideo at 0x7f1aafd32cc0>"
            ],
            "image/jpeg": "[encoded data removed]"
          },
          "metadata": {
            "tags": []
          },
          "execution_count": 19
        }
      ]
    },
    {
      "cell_type": "markdown",
      "metadata": {
        "id": "z7V3wCy2WBVH",
        "colab_type": "text"
      },
      "source": [
        "Google Colaboratory에서 Python 버전을 확인해보겠습니다."
      ]
    },
    {
      "cell_type": "code",
      "metadata": {
        "id": "_RFCB7XWU15M",
        "colab_type": "code",
        "outputId": "10c7cb1d-7f2c-444a-e94b-010bbb5af650",
        "colab": {
          "base_uri": "https://localhost:8080/",
          "height": 34
        }
      },
      "source": [
        "import sys\n",
        "sys.version_info"
      ],
      "execution_count": 0,
      "outputs": [
        {
          "output_type": "execute_result",
          "data": {
            "text/plain": [
              "sys.version_info(major=3, minor=6, micro=8, releaselevel='final', serial=0)"
            ]
          },
          "metadata": {
            "tags": []
          },
          "execution_count": 2
        }
      ]
    },
    {
      "cell_type": "markdown",
      "metadata": {
        "id": "PuNNSaSdu9nT",
        "colab_type": "text"
      },
      "source": [
        "# print() 와 input()\n",
        "* print()는 파이썬 프로그래밍에서 원하는 것을 찍어내고 싶을 때 사용\n",
        "* input()은 어떤 값을 받아서 변수에 저장하고 싶을 때 사용"
      ]
    },
    {
      "cell_type": "code",
      "metadata": {
        "id": "V0IW1OivvxDy",
        "colab_type": "code",
        "outputId": "e3a238b8-1185-4692-bf75-56ea2651c1e7",
        "colab": {
          "base_uri": "https://localhost:8080/",
          "height": 34
        }
      },
      "source": [
        "print(\"AI Robotics KR\")"
      ],
      "execution_count": 0,
      "outputs": [
        {
          "output_type": "stream",
          "text": [
            "AI Robotics KR\n"
          ],
          "name": "stdout"
        }
      ]
    },
    {
      "cell_type": "code",
      "metadata": {
        "id": "Q_-kVHgfv5zR",
        "colab_type": "code",
        "outputId": "57d3e023-9f94-4aeb-c3e5-34dbb05f8cca",
        "colab": {
          "base_uri": "https://localhost:8080/",
          "height": 36
        }
      },
      "source": [
        "a = input(\"원하는 숫자를 써주세요.\")"
      ],
      "execution_count": 0,
      "outputs": [
        {
          "output_type": "stream",
          "text": [
            "원하는 숫자를 써주세요.5\n"
          ],
          "name": "stdout"
        }
      ]
    },
    {
      "cell_type": "code",
      "metadata": {
        "id": "Vxgk9zosv6aD",
        "colab_type": "code",
        "outputId": "23a308f6-a70e-49eb-bd2d-40e795421d36",
        "colab": {
          "base_uri": "https://localhost:8080/",
          "height": 34
        }
      },
      "source": [
        "print(a)"
      ],
      "execution_count": 0,
      "outputs": [
        {
          "output_type": "stream",
          "text": [
            "5\n"
          ],
          "name": "stdout"
        }
      ]
    },
    {
      "cell_type": "markdown",
      "metadata": {
        "id": "y_xSrQMkRhgy",
        "colab_type": "text"
      },
      "source": [
        "#### 실습시 유용한 whos와 who!\n",
        "* who를 쓰면 파이썬 파일에서 쓰이고 있는 변수 이름 목록이 나온다.\n",
        "* whos를 쓰면 변수, 변수에 따른 여러 속성들을 보여준다.\n",
        "\n",
        "\n",
        "\n",
        "```\n",
        "who\n",
        "#output a\n",
        "\n",
        "whos\n",
        "#output\n",
        "Variable   Type    Data/Info\n",
        "----------------------------\n",
        "a          str     5\n",
        "```\n",
        "\n"
      ]
    },
    {
      "cell_type": "code",
      "metadata": {
        "id": "lM5AFU3nRoTR",
        "colab_type": "code",
        "colab": {}
      },
      "source": [
        ""
      ],
      "execution_count": 0,
      "outputs": []
    },
    {
      "cell_type": "markdown",
      "metadata": {
        "id": "wh8tyk6VrTt1",
        "colab_type": "text"
      },
      "source": [
        "---\n",
        "# Data Type _ Number"
      ]
    },
    {
      "cell_type": "markdown",
      "metadata": {
        "id": "skeuGGZ2KJXd",
        "colab_type": "text"
      },
      "source": [
        "숫자형이란 숫자형태로 이루어진 자료형이다. \n",
        "\n",
        ">Types | Python Examples\n",
        ">--- | ---\n",
        ">정수 Integer | 123, -345, 0\n",
        "실수 Float | 10.21, -19.97, 0.6e20\n",
        ">복소수 Complex number | 1 + 2j, -10j\n",
        ">8진수 Octal | 0o10, 0o25\n",
        ">16진수 Hexadecimal | 0x5A, 0xFF\n",
        "\n",
        "## 정수\n",
        "\n",
        "    정수형이란 말 그대로 정수를 뜻하는 자료형을 말한다. \n",
        "\n",
        "        a = 123\n",
        "        b = -178\n",
        "        c = 0\n",
        "        \n",
        "\n"
      ]
    },
    {
      "cell_type": "code",
      "metadata": {
        "id": "2PKNC9olMBQF",
        "colab_type": "code",
        "colab": {}
      },
      "source": [
        "a = \n",
        "b = \n",
        "c = \n",
        "print(a, b, c)"
      ],
      "execution_count": 0,
      "outputs": []
    },
    {
      "cell_type": "markdown",
      "metadata": {
        "id": "Lzg_z5CRMFWP",
        "colab_type": "text"
      },
      "source": [
        "## 실수\n",
        "\n",
        "    실수형은 소수점이 포함된 숫자를 말한다. \n",
        "\n",
        "        a = 1.2\n",
        "        b = -3.45\n",
        "\n",
        "        a = 4.24E10\n",
        "        b = 4.24e-10\n",
        "\n",
        "    위의 방식은 '컴퓨터식 지수 표현 방식'으로 파이썬에서는 4.24e10 또는 4.24E10처럼 표현한다.\n",
        "    (e와 E 둘 중 어느 것을 사용해도 무방)\n"
      ]
    },
    {
      "cell_type": "code",
      "metadata": {
        "id": "II__o4UCrJUx",
        "colab_type": "code",
        "outputId": "879a5d7e-dd92-406f-de61-040bc6ae63fb",
        "colab": {
          "base_uri": "https://localhost:8080/",
          "height": 35
        }
      },
      "source": [
        "a = \n",
        "b =  \n",
        "print(a, b)"
      ],
      "execution_count": 0,
      "outputs": [
        {
          "output_type": "stream",
          "text": [
            "42400000000.0 5.64e-10\n"
          ],
          "name": "stdout"
        }
      ]
    },
    {
      "cell_type": "markdown",
      "metadata": {
        "id": "fY9m9t5HMW6r",
        "colab_type": "text"
      },
      "source": [
        "\n",
        "## 8진수와 16진수\n",
        "\n",
        "    8진수를 만들기 위해서는 숫자가 0o 또는 0O(숫자0 + 알파벳 소문자 o 또는 대문자 O)로 시작\n",
        "\n",
        "        a = 0o177\n",
        "\n",
        "    16진수를 만들기 위해서는 0x로 시작\n",
        "\n",
        "        a = 0x8ff\n",
        "        b = 0xABC\n",
        "\n",
        "    8진수나 16진수는 파이썬에서 잘 사용하지 않는 형태의 숫자 자료형이니 간단히 눈으로 익히고 넘어가자\n"
      ]
    },
    {
      "cell_type": "code",
      "metadata": {
        "id": "m28Rz4zyQuAY",
        "colab_type": "code",
        "colab": {}
      },
      "source": [
        "a = \n",
        "b = \n",
        "print(a, b)"
      ],
      "execution_count": 0,
      "outputs": []
    },
    {
      "cell_type": "markdown",
      "metadata": {
        "id": "ZiosLfnRMfCm",
        "colab_type": "text"
      },
      "source": [
        "\n",
        "## 복소수\n",
        "\n",
        "    * 일반적으로 복소수를 배울때 j대신 i를 사용했을 것이지만 파이썬에서는 j를 사용\n",
        "    * 소문자 j를 써도 되고 대문자 J를 써도 됨\n",
        "\n",
        "        a = 1 + 2j\n",
        "        b = 3 - 4J\n"
      ]
    },
    {
      "cell_type": "code",
      "metadata": {
        "id": "ns1ro_xAMnAu",
        "colab_type": "code",
        "colab": {}
      },
      "source": [
        "a = \n",
        "b = \n",
        "print(a, b)"
      ],
      "execution_count": 0,
      "outputs": []
    },
    {
      "cell_type": "markdown",
      "metadata": {
        "id": "HBA-vydKMnjL",
        "colab_type": "text"
      },
      "source": [
        "### 복소수 내장 함수\n",
        "\n",
        "    복소수 관련 내장 함수를 사용하기 위해서는 복소수 변수 이름 뒤에 '.'를 붙인 다음 함수 이름을 써주면 된다.\n",
        "\n",
        "    - .real\n",
        "\n",
        "        복소수의 실수 부분을 return 한다.\n",
        "\n",
        "            a = 1 + 2j\n",
        "            a.real\n",
        "            #output 1.0\n"
      ]
    },
    {
      "cell_type": "code",
      "metadata": {
        "id": "_feZHvhcMxvk",
        "colab_type": "code",
        "colab": {}
      },
      "source": [
        "a = \n",
        "#함수 코드작성\n"
      ],
      "execution_count": 0,
      "outputs": []
    },
    {
      "cell_type": "markdown",
      "metadata": {
        "id": "yXOky8ThMyg0",
        "colab_type": "text"
      },
      "source": [
        "\n",
        "    - .imag\n",
        "\n",
        "        복소수의 허수 부분을 return 한다.\n",
        "\n",
        "            a = 1 + 2j\n",
        "            a.imag\n",
        "            #output 2.0\n"
      ]
    },
    {
      "cell_type": "code",
      "metadata": {
        "colab_type": "code",
        "id": "nIYlfsqhxYRz",
        "colab": {}
      },
      "source": [
        "a = \n",
        "#함수 코드작성\n"
      ],
      "execution_count": 0,
      "outputs": []
    },
    {
      "cell_type": "markdown",
      "metadata": {
        "id": "VHT_WEEzM3fz",
        "colab_type": "text"
      },
      "source": [
        "\n",
        "    - .conjugate()\n",
        "\n",
        "        복소수의 켤레복소수를 return한다.\n",
        "\n",
        "            a = 1 + 2j\n",
        "            a.conjugate()\n",
        "            #output (1-2j)\n"
      ]
    },
    {
      "cell_type": "code",
      "metadata": {
        "id": "U5cT8djcM8EZ",
        "colab_type": "code",
        "colab": {}
      },
      "source": [
        "a = \n",
        "#함수 코드작성\n"
      ],
      "execution_count": 0,
      "outputs": []
    },
    {
      "cell_type": "markdown",
      "metadata": {
        "id": "uWS8-lrXM8gg",
        "colab_type": "text"
      },
      "source": [
        "\n",
        "    - abs()\n",
        "\n",
        "        복소수의 절댓값을 return한다.\n",
        "\n",
        "            a = 1 + 2j\n",
        "            abs(a)\n",
        "            #output 2.2360679774997898\n"
      ]
    },
    {
      "cell_type": "code",
      "metadata": {
        "id": "SXnhx58cM_hM",
        "colab_type": "code",
        "colab": {}
      },
      "source": [
        "a = \n",
        "#함수 코드작성\n"
      ],
      "execution_count": 0,
      "outputs": []
    },
    {
      "cell_type": "markdown",
      "metadata": {
        "id": "gyKRd0hVNASw",
        "colab_type": "text"
      },
      "source": [
        "\n",
        "## 연산자\n",
        "\n",
        "    - 사칙연산\n",
        "\n",
        "        계산기와 마찬가지로 아래의 연산자를 이용해 사칙연산을 수행한다.\n",
        "\n",
        "            a = 3\n",
        "            b = 4\n",
        "            a + b\n",
        "            #output 12\n",
        "\n",
        "            a * b\n",
        "            #output 12\n",
        "\n",
        "            a / b\n",
        "            #output 0.75\n"
      ]
    },
    {
      "cell_type": "code",
      "metadata": {
        "id": "gDtg0cmRTA8f",
        "colab_type": "code",
        "colab": {}
      },
      "source": [
        "a = \n",
        "b = \n",
        "\n",
        "# 덧셈\n",
        "plus = \n",
        "\n",
        "# 뺄셈 \n",
        "subtract = \n",
        "\n",
        "# 곱셈\n",
        "multiply = \n",
        "\n",
        "# 나눗셈\n",
        "divide = \n",
        "\n",
        "print(plus, subtract, multiply, divide)"
      ],
      "execution_count": 0,
      "outputs": []
    },
    {
      "cell_type": "markdown",
      "metadata": {
        "id": "NOG9xdekT0E7",
        "colab_type": "text"
      },
      "source": [
        "\n",
        "    - **\n",
        "\n",
        "        x**y처럼 사용되었을 때 x의 y제곱 값을 return한다.\n",
        "\n",
        "            a=3\n",
        "            b=4\n",
        "            a**b\n",
        "            #output 81\n",
        "\n"
      ]
    },
    {
      "cell_type": "code",
      "metadata": {
        "id": "hWSmP53rT4fW",
        "colab_type": "code",
        "outputId": "ef7d2426-1aa3-44be-e13c-868d5f75eb56",
        "colab": {
          "base_uri": "https://localhost:8080/",
          "height": 35
        }
      },
      "source": [
        ""
      ],
      "execution_count": 0,
      "outputs": [
        {
          "output_type": "execute_result",
          "data": {
            "text/plain": [
              "81"
            ]
          },
          "metadata": {
            "tags": []
          },
          "execution_count": 12
        }
      ]
    },
    {
      "cell_type": "markdown",
      "metadata": {
        "id": "rh3kFPwpT465",
        "colab_type": "text"
      },
      "source": [
        "    - %\n",
        "\n",
        "        나눗셈 후 나머지를 return하는 연산자이다.\n",
        "\n",
        "            7 % 3\n",
        "            #output 1\n",
        "            3 % 7\n",
        "            #output 3\n"
      ]
    },
    {
      "cell_type": "code",
      "metadata": {
        "id": "sBDrCCyVT9Mn",
        "colab_type": "code",
        "colab": {}
      },
      "source": [
        ""
      ],
      "execution_count": 0,
      "outputs": []
    },
    {
      "cell_type": "markdown",
      "metadata": {
        "id": "IlALORDLT9nY",
        "colab_type": "text"
      },
      "source": [
        "    - //\n",
        "\n",
        "        나눗셈 후 몫을 return하는 연산자이다. \n",
        "\n",
        "            7 / 4\n",
        "            #output 1.75\n",
        "            7 // 4\n",
        "            #output 1"
      ]
    },
    {
      "cell_type": "code",
      "metadata": {
        "id": "ZlB5oeTgUATT",
        "colab_type": "code",
        "colab": {}
      },
      "source": [
        ""
      ],
      "execution_count": 0,
      "outputs": []
    },
    {
      "cell_type": "markdown",
      "metadata": {
        "id": "y8DtEvbxVC6-",
        "colab_type": "text"
      },
      "source": [
        "---\n",
        "# Data Type _ String"
      ]
    },
    {
      "cell_type": "markdown",
      "metadata": {
        "id": "isnoRTv4USSN",
        "colab_type": "text"
      },
      "source": [
        "문자열이란 문자, 단어 등으로 구성된 문자들의 집합을 의미한다.\n",
        "\n",
        "    \"Life is too short, You need Python\"\n",
        "    \"a\"\n",
        "    '123'\n",
        "\n",
        "\"\"이나 ''로 둘러싸여 있다면 모두 문자열\n",
        "\n",
        "## 문자열 생성/사용 방법\n",
        "    1. \"____\"\n",
        "\n",
        "            \"Hello World\"\n",
        "\n",
        "    2. '_____'\n",
        "\n",
        "            'Python is fun'\n",
        "\n",
        "    3. \"\"\"_____\"\"\"\n",
        "\n",
        "            \"\"\"Life is too short, You need Python\"\"\"\n",
        "\n",
        "    4. '''___'''\n",
        "\n",
        "            '''Life is too short, You need Python'''\n",
        "\n"
      ]
    },
    {
      "cell_type": "code",
      "metadata": {
        "id": "j7azWgSpVary",
        "colab_type": "code",
        "outputId": "03b7a055-1b4b-4a5f-e9d7-67c828d18ea3",
        "colab": {
          "base_uri": "https://localhost:8080/",
          "height": 35
        }
      },
      "source": [
        "#1번째 방법으로\n",
        "\n",
        "\n",
        "#2번째 방법으로\n",
        "\n",
        "\n",
        "#3번째 방법으로\n",
        "\n",
        "\n",
        "#4번째 방법으로\n"
      ],
      "execution_count": 0,
      "outputs": [
        {
          "output_type": "execute_result",
          "data": {
            "text/plain": [
              "'ai robotics kr'"
            ]
          },
          "metadata": {
            "tags": []
          },
          "execution_count": 13
        }
      ]
    },
    {
      "cell_type": "markdown",
      "metadata": {
        "id": "v3ORlLTVVbPl",
        "colab_type": "text"
      },
      "source": [
        "   ### 문자열을 만드는 방법은 왜 4가지나 있는 것일까?\n",
        "\n",
        "        Answer) 문자열 안에도 작은 따옴표와 큰 따옴표가 들어 있어야 할 경우가 있다\n",
        "        \n",
        "        1. 작은따옴표 포함\n",
        "\n",
        "                Python's important point is simple\n",
        "\n",
        "            큰 따옴표 안에 들어있는 작은 따옴표는 문자열을 나타내기 위한 기호로 인식되지 않는다.\n",
        "\n",
        "                point = \"Python's important point is simple\"\n",
        "\n",
        "                point\n",
        "                #output \"Python's important point is simple\"\n",
        "\n",
        "            큰따옴표가 아닌 작은 따옴표로 문자열을 둘러싼 후 다시 실행해보면 구문오류(SytaxError)가 발생\n"
      ]
    },
    {
      "cell_type": "code",
      "metadata": {
        "id": "KXs1hI-GVyF3",
        "colab_type": "code",
        "colab": {}
      },
      "source": [
        "# 작은 따옴표가 들어가는 문장을 하나 작성해봅시다.\n",
        "\n",
        "\n",
        "# 오류도 발생시켜봅시다.\n",
        "\n"
      ],
      "execution_count": 0,
      "outputs": []
    },
    {
      "cell_type": "markdown",
      "metadata": {
        "id": "g2xTVF1NxwpX",
        "colab_type": "text"
      },
      "source": [
        "\n",
        "        2. 큰따옴표 포함\n",
        "\n",
        "                \"Python is very easy.\" he says.\n",
        "\n",
        "                say = '\"Python is very easy.\" he says.'\n"
      ]
    },
    {
      "cell_type": "code",
      "metadata": {
        "id": "MWid0XUax0bq",
        "colab_type": "code",
        "colab": {}
      },
      "source": [
        ""
      ],
      "execution_count": 0,
      "outputs": []
    },
    {
      "cell_type": "markdown",
      "metadata": {
        "id": "wjGILKyOx1EO",
        "colab_type": "text"
      },
      "source": [
        "\n",
        "        3. \\이용\n",
        "\n",
        "                food = 'Python\\'s favorite food is perl'\n",
        "                say = \"\\\"Python is very easy.\\\" he says.\"\n",
        "\n",
        "            \\를 작은따옴표나 큰 따옴표 앞에 삽입하면 뒤의 작은/큰따옴표는 문자열을 둘러싸는 기호의 의미가 아니라 문자 그 자체를 뜻함\n",
        "\n"
      ]
    },
    {
      "cell_type": "code",
      "metadata": {
        "id": "5AauGD5_x3Ld",
        "colab_type": "code",
        "colab": {}
      },
      "source": [
        ""
      ],
      "execution_count": 0,
      "outputs": []
    },
    {
      "cell_type": "markdown",
      "metadata": {
        "id": "nIxCk7hfVylv",
        "colab_type": "text"
      },
      "source": [
        "## 여러 줄인 문자열\n",
        "\n",
        "    여러 줄의 문자열을 변수에 대입하고 싶을땐 어떻게 해야할까?\n",
        "\n",
        "        Life is too short\n",
        "        You need Python\n",
        "\n",
        "    1. escape code '\\n'\n",
        "\n",
        "            multiline = \"Life is too short\\nYou need Python\"\n",
        "\n",
        "        * Escape Code - 프로그래밍할 때 사용할 수 있도록 미리 정의해 둔 '문자 조합'. 주로 출력물을 보기 좋게 정렬하는 용도로 이용\n",
        "\n",
        "            \\n → 문자열 안에서 줄을 바꿀 때 사용\n",
        "\n",
        "            \\t → 문자열 사이에 탭 간격을 줄 때 사용\n",
        "\n",
        "            \\\\ → 문자 \\를 그대로 표현할 때 사용\n",
        "\n",
        "            \\' → 작은 따옴표를 그대로 표현할 때 사용\n",
        "\n",
        "            \\\" → 큰 따옴표를 그대로 표현할 때 사용\n",
        "            \n",
        "\n",
        "    2. ''' or \"\"\"\n",
        "\n",
        "            multiline = '''\n",
        "            Life is too short\n",
        "            You need Python\n",
        "            '''\n",
        "\n",
        "            multiline = \"\"\"\n",
        "            Life is too short\n",
        "            You need Python\n",
        "            \"\"\"\n",
        "\n",
        "            print(multiline)\n",
        "            #output\n",
        "            #Life is too short\n",
        "            #You need Python\n",
        "\n"
      ]
    },
    {
      "cell_type": "code",
      "metadata": {
        "id": "MGtMTiShWFzd",
        "colab_type": "code",
        "colab": {}
      },
      "source": [
        "# \\n을 활용해봅시다.\n",
        "\n",
        "\n"
      ],
      "execution_count": 0,
      "outputs": []
    },
    {
      "cell_type": "code",
      "metadata": {
        "id": "iPzxL_nngzAE",
        "colab_type": "code",
        "colab": {}
      },
      "source": [
        "# ''' '''또는 \"\"\" \"\"\"을 활용해봅시다.\n",
        "\n",
        "\n"
      ],
      "execution_count": 0,
      "outputs": []
    },
    {
      "cell_type": "markdown",
      "metadata": {
        "id": "7MjJr_kFWGQq",
        "colab_type": "text"
      },
      "source": [
        "## 연산\n",
        "\n",
        "    파이썬에서는 문자열을 더하거나 곱할 수 있다.\n",
        "\n",
        "    1. concatenation +\n",
        "\n",
        "        문자열을 더해서 연결하기\n",
        "\n",
        "            head = \"Python\"\n",
        "            tail = \" is fun!\"\n",
        "            head + tail\n",
        "            #output 'Python is fun!'\n"
      ]
    },
    {
      "cell_type": "code",
      "metadata": {
        "id": "xuuv0etCWbxb",
        "colab_type": "code",
        "colab": {}
      },
      "source": [
        ""
      ],
      "execution_count": 0,
      "outputs": []
    },
    {
      "cell_type": "markdown",
      "metadata": {
        "id": "Xp7pBPAu1xFg",
        "colab_type": "text"
      },
      "source": [
        "    2. *\n",
        "\n",
        "            a = \"python\"\n",
        "            a * 2\n",
        "            #output 'pythonpython'\n",
        "\n",
        "       *는 문자열의 반복을 뜻하는 의미로 사용되었다.\n",
        "\n",
        "            print(\"=\" * 50)\n",
        "            print(\"My Program\")\n",
        "            print(\"=\" * 50)\n",
        "\n",
        "            #output\n",
        "            ==================================================\n",
        "            My Program\n",
        "            ==================================================\n"
      ]
    },
    {
      "cell_type": "code",
      "metadata": {
        "id": "i6Vt9wuK1zFL",
        "colab_type": "code",
        "colab": {}
      },
      "source": [
        ""
      ],
      "execution_count": 0,
      "outputs": []
    },
    {
      "cell_type": "markdown",
      "metadata": {
        "id": "hxL9iRFEKV5I",
        "colab_type": "text"
      },
      "source": [
        "    3. comparison <, >\n",
        "\n",
        "            'abc' < 'cde'\n",
        "            #output True\n",
        "            \n",
        "            'abc' < 'abd'\n",
        "            #output True\n",
        "            \n",
        "            'abc' < 'abcd'\n",
        "            #output True\n",
        "            \n",
        "            '' < 'a'\n",
        "            #output True\n",
        "            \n",
        "            "
      ]
    },
    {
      "cell_type": "code",
      "metadata": {
        "id": "Y6zt_F8_KaJj",
        "colab_type": "code",
        "colab": {}
      },
      "source": [
        ""
      ],
      "execution_count": 0,
      "outputs": []
    },
    {
      "cell_type": "markdown",
      "metadata": {
        "id": "TbPvsb_PWcPW",
        "colab_type": "text"
      },
      "source": [
        "## indexing\n",
        "\n",
        "    인덱싱이란 무엇인가를 '가리킨다'는 의미이다\n",
        "\n",
        "        a = \"Life is too short, You need Python\"\n",
        "        a[3]\n",
        "        #output 'e'\n",
        "\n",
        "    a[3]이 뜻하는 것은 a라는 문자열의 네 번째 문자인 e를 말한다.\n",
        "    \n",
        "   ![대체 텍스트](https://cdn.loanstreet.com.my/rich/rich_files/rich_files/000/000/940/original/what-meme-13.jpg)\n",
        "\n",
        "\n",
        "    L : 0 / i : 1 / f : 2 / e : 3 /   : 4 / i : 5 / ...\n",
        "\n",
        "\n",
        "    \"파이썬은 0부터 숫자를 센다\"\n",
        "\n",
        "\n",
        "    a[0]: L \n",
        "\n",
        "    a[1]: i \n",
        "\n",
        "    a[2]: f \n",
        "\n",
        "    a[3]: e\n",
        "\n",
        "    a[4]:   \n",
        "\n",
        "    a[5]:  i\n",
        "\n",
        "    ...\n",
        "\n",
        "    a[번호]는 문자열 내 특정한 값을 뽑아내는 역할을 한다. 이러한 것을 인덱싱이라고 한다.\n",
        "\n",
        "        a = \"Life is too short, You need Python\"\n",
        "        a[0]\n",
        "        #output 'L'\n",
        "        a[12]\n",
        "        #output 's'\n",
        "        a[-1]\n",
        "        #output 'n'\n",
        "\n",
        "    a[-1]은 뭘까? 문자열을 뒤에서부터 읽기 위해서 -기호가 붙는다.\n",
        "    \n",
        "\n",
        "    뒤에서부터 첫 번째 문자를 표시할 때도 0부터 세어 a[-0]라고 한다면 -0과 0은 같은 것이기때문에 다음과 같이 출력된다.\n",
        "\n",
        "        a[-0]\n",
        "        #output 'L'\n",
        "\n",
        "        a[-2]\n",
        "        #output 'o'\n",
        "        a[-5]\n",
        "        #output 'y'\n",
        "\n"
      ]
    },
    {
      "cell_type": "code",
      "metadata": {
        "id": "Mv0m7-WkWk-F",
        "colab_type": "code",
        "colab": {}
      },
      "source": [
        "# mysent를 만들고 원하는 char를 인덱싱 해봅시다.\n",
        "\n",
        "\n"
      ],
      "execution_count": 0,
      "outputs": []
    },
    {
      "cell_type": "markdown",
      "metadata": {
        "id": "XKhLBVR0WlkA",
        "colab_type": "text"
      },
      "source": [
        "## slicing\n",
        "\n",
        "    슬라이싱이란 무엇인가를 '잘라낸다'는 의미이다. \n",
        "    \n",
        "    문자열에서 단순히 한 문자만 뽑아내는 것이 아니라 'Life'또는 'You' 같은 단어들을 뽑아보자.\n",
        "    \n",
        "    방법1)\n",
        "\n",
        "        a = \"Life is too short, You need Python\"\n",
        "        b = a[0] + a[1] + a[2] + a[3]\n",
        "        b\n",
        "        #output 'Life'\n",
        "\n",
        "    방법2) \n",
        "\n",
        "        a = \"Life is too short, You need Python\"\n",
        "        a[0:4]\n",
        "        #output 'Life'\n",
        "\n",
        "    a[0:4]가 뜻하는 것은 a라는 문자열의 0부터 4까지의 문자를 뽑아낸다는 뜻이다.\n",
        "    \n",
        "   ![대체 텍스트](https://cdn.loanstreet.com.my/rich/rich_files/rich_files/000/000/940/original/what-meme-13.jpg)\n",
        "\n",
        "\n",
        "\n",
        "        a[0:3]\n",
        "        #output 'Lif'\n",
        "\n",
        "    a[시작 번호: 끝 번호]를 지정하면 끝 번호에 해당하는 것은 포함되지 않는다.\n",
        "\n",
        "        a[0:5]\n",
        "        #output 'Life '\n",
        "\n",
        "    'Life'와 'Life '는 완전히 다른 문자열이다.\n",
        "\n",
        "        a[0:2]\n",
        "        #output 'Li'\n",
        "        a[5:7]\n",
        "        #output 'is'\n",
        "        a[12:17]\n",
        "        #output 'short'\n"
      ]
    },
    {
      "cell_type": "code",
      "metadata": {
        "id": "q4g9CSoLWmJH",
        "colab_type": "code",
        "colab": {}
      },
      "source": [
        "# mysent를 만들고 원하는 단어를 슬라이싱 해봅시다.\n",
        "\n"
      ],
      "execution_count": 0,
      "outputs": []
    },
    {
      "cell_type": "markdown",
      "metadata": {
        "id": "dBB_CK_s5Cvp",
        "colab_type": "text"
      },
      "source": [
        "\n",
        "    슬라이싱할 때 항상 시작번호가 '0'일 필요는 없다.\n",
        "\n",
        "    끝번호를 생략 -> 시작 번호부터 그 문자열의 끝까지\n",
        "\n",
        "    시작번호를 생략 -> 문자열의 처음부터 끝 번호까지\n",
        "\n",
        "    둘다 생략 -> 모두 \n",
        "\n",
        "        a[19:]\n",
        "        #output 'You need Python'\n",
        "        a[:17]\n",
        "        #output 'Life is too short'\n",
        "        a[:]\n",
        "        #output 'Life is too short, You need Python'\n",
        "\n",
        "    슬라이싱에서도 인덱싱과 마찬가지로 -기호를 사용할 수 있다.\n",
        "\n",
        "        a[19:-7]\n",
        "        #output 'You need'\n",
        "\n",
        "    위 소스 코드에서 a[19:-7]이 뜻하는 것은? \n",
        "    a[19]에서 부터 a[-6]까지를 말한다. (a[-7]은 포함하지 않는다!)\n",
        "\n",
        "  e.g.)\n",
        "\n",
        "        a = \"20110331Rainy\"\n",
        "        date = a[:8]\n",
        "        weather = a[8:]\n",
        "        date\n",
        "        #output '20010331'\n",
        "        weather\n",
        "        #output 'Rainy'\n",
        "\n",
        "    a라는 문자열을 두 부분으로 나누는 기법이다. \n",
        "    \n",
        "    동일한 숫자 8을 기준으로 a[:8], a[8:]처럼 사용했다. \n",
        "    a[:8]은 a[8]이 포함되지 않고, a[8:]은 a[8]을 포함하기 때문에 8을 기준으로 해서 두 부분으로 나눌 수 있다.\n"
      ]
    },
    {
      "cell_type": "code",
      "metadata": {
        "id": "wbMiAsrV5Bxo",
        "colab_type": "code",
        "colab": {}
      },
      "source": [
        "# 처음부터 슬라이싱\n",
        "\n",
        "\n",
        "# 마지막까지 슬라이싱\n",
        "\n",
        "\n",
        "# - 기호도 써봅시다.\n",
        "\n"
      ],
      "execution_count": 0,
      "outputs": []
    },
    {
      "cell_type": "markdown",
      "metadata": {
        "id": "NY4l7gyqMHjs",
        "colab_type": "text"
      },
      "source": [
        "\n",
        "    - n 등분\n",
        "\n",
        "        a = \"20110331Rainy\"\n",
        "        year = a[:4]\n",
        "        day = a[4:8]\n",
        "        weather = a[8:]\n",
        "        \n",
        "        year\n",
        "        #output '2001'\n",
        "        \n",
        "        day\n",
        "        #output '0331'\n",
        "        \n",
        "        weather\n",
        "        #output 'Rainy'\n",
        "\n",
        "---\n",
        "\n",
        "    problem)\n",
        "\n",
        "            a = \"Pithon\"\n",
        "            a[1]\n",
        "            \n",
        "            #output 'i'\n",
        "            \n",
        "            a[1] = 'y'\n",
        "\n",
        "        우리의 생각대로라면 i가 y로 바뀌길 원할 것이다. 하지만 error가 난다.\n",
        "        \n",
        "        (문자열String, 튜플 Tuple 등의 자료형은 immutable)\n",
        "\n",
        "    solution) 슬라이싱 기법\n",
        "\n",
        "            a = \"Pithon\"\n",
        "            a[:1]\n",
        "            #output 'P'\n",
        "            a[2:]\n",
        "            #output 'thon'\n",
        "            a[:1] + 'y' + a[2:]\n",
        "            #output 'Python'\n",
        "\n"
      ]
    },
    {
      "cell_type": "code",
      "metadata": {
        "id": "Mxp7lyNbMKti",
        "colab_type": "code",
        "colab": {}
      },
      "source": [
        "# 슬라이싱으로 단어를 수정해봅시다.\n",
        "myword = \n"
      ],
      "execution_count": 0,
      "outputs": []
    },
    {
      "cell_type": "markdown",
      "metadata": {
        "id": "UkogP-daWzG8",
        "colab_type": "text"
      },
      "source": [
        "## Formatting\n",
        "\n",
        "        \"현재 온도는 18도 입니다.\"\n",
        "        \"현재 온도는 20도 입니다.\"\n",
        "\n",
        "    * 문자열 내의 특정한 값을 바꿔야 할 때\n",
        "    * 문자열 내에 어떤 값을 삽입\n",
        "\n",
        "    1. 숫자 대입\n",
        "\n",
        "            \"I eat %d apples.\" % 3\n",
        "            #output \"I eat 3 apples.\"\n",
        "\n",
        "        %d -> 문자열 포맷 코드\n",
        "\n",
        "\n"
      ]
    },
    {
      "cell_type": "code",
      "metadata": {
        "id": "W2NsaMPZW7Be",
        "colab_type": "code",
        "colab": {}
      },
      "source": [
        ""
      ],
      "execution_count": 0,
      "outputs": []
    },
    {
      "cell_type": "markdown",
      "metadata": {
        "id": "GCXA6OahWTd1",
        "colab_type": "text"
      },
      "source": [
        "    2. 문자열 대입\n",
        "\n",
        "            \"I eat %s apples.\" % five\n",
        "            #output 'I eat five apples.'\n",
        "\n",
        "        %d 대신 %s를 문자열을 넣기 위해 쓴다.\n",
        "\n"
      ]
    },
    {
      "cell_type": "code",
      "metadata": {
        "id": "pm1OqOp1WWz3",
        "colab_type": "code",
        "colab": {}
      },
      "source": [
        ""
      ],
      "execution_count": 0,
      "outputs": []
    },
    {
      "cell_type": "markdown",
      "metadata": {
        "id": "rw2Gn76kWfmD",
        "colab_type": "text"
      },
      "source": [
        "    3. 변수로 대입\n",
        "\n",
        "            number = 3\n",
        "            \"I eat %d apples.\" % number\n",
        "            #output 'I eat 3 apples.'\n",
        "\n",
        "\n"
      ]
    },
    {
      "cell_type": "code",
      "metadata": {
        "id": "6UlYFo1sWguR",
        "colab_type": "code",
        "colab": {}
      },
      "source": [
        ""
      ],
      "execution_count": 0,
      "outputs": []
    },
    {
      "cell_type": "markdown",
      "metadata": {
        "id": "NJgZTrHeWqzt",
        "colab_type": "text"
      },
      "source": [
        "    4. 2개 이상의 값 넣기\n",
        "\n",
        "            number = 10\n",
        "            day = \"three\"\n",
        "            \"I ate %d apples. so I was sick for %s days.\" % (number, day)\n",
        "            \n",
        "            #output 'I ate 10 apples. so I was sick for three days.'\n",
        "\n",
        "\n"
      ]
    },
    {
      "cell_type": "code",
      "metadata": {
        "id": "Bzzh8EkOWsCQ",
        "colab_type": "code",
        "colab": {}
      },
      "source": [
        ""
      ],
      "execution_count": 0,
      "outputs": []
    },
    {
      "cell_type": "markdown",
      "metadata": {
        "id": "YOZiRoE1b_i1",
        "colab_type": "text"
      },
      "source": [
        "  \n",
        "Code | 설명\n",
        "--- | ---\n",
        "%s | 문자열 (string)\n",
        "%c | 문자 1개(Character)\n",
        "%d | 정수(Integer)\n",
        "%f | 부동 소수(floating-point)\n",
        "%o | 8진수\n",
        "%x | 16진수\n",
        "%% | Literal %(문자 '%'자체)\n",
        "\n",
        "\n",
        "\n",
        "    - %s는 어떤 형태의 값이든 변환해 넣을 수 있다. (자동으로 %뒤에 있는 값을 문자열로 바꿈)\n",
        "\n",
        "        \"I have %s apples\" % 3\n",
        "        #output 'I have 3 apples'\n",
        "        \n",
        "        \"rate is %s\" % 3.234\n",
        "        #output 'rate is 3.234'\n",
        "\n",
        "\n",
        "\n"
      ]
    },
    {
      "cell_type": "code",
      "metadata": {
        "id": "8vB4tuONcAus",
        "colab_type": "code",
        "colab": {}
      },
      "source": [
        "# 만능 %s를 사용해봅시다.\n",
        "\n"
      ],
      "execution_count": 0,
      "outputs": []
    },
    {
      "cell_type": "markdown",
      "metadata": {
        "id": "EAuaCCZTX6YV",
        "colab_type": "text"
      },
      "source": [
        "    - 포매팅 연산자 %d와 %를 같이 쓸때 → %%\n",
        "\n",
        "        \"Error is %d%.\" % 98\n",
        "\n",
        "    Value Error -> 문자열 포맷코드인 %d와 %가 같은 문자열 내에 존재하는 경우, %를 나타내려면 반드시 %%로 써야하는 법칙이 있기 때문이다. \n",
        "\n",
        "    하지만 문자열 내에 %d 같은 포매팅 연산자가 없으면 %는 홀로 쓰여도 상관이 없다.\n",
        "\n",
        "        \"Error is %d%%.\" %98\n",
        "        #output 'Error is 98%.'\n"
      ]
    },
    {
      "cell_type": "code",
      "metadata": {
        "id": "DRg9EidlX7lo",
        "colab_type": "code",
        "colab": {}
      },
      "source": [
        "# AI Robotics KR이 몇 퍼센트 좋으신가요?\n",
        "\n"
      ],
      "execution_count": 0,
      "outputs": []
    },
    {
      "cell_type": "markdown",
      "metadata": {
        "id": "XvHDbK3aYEPk",
        "colab_type": "text"
      },
      "source": [
        "\n",
        "   - 포맷코드와 숫자 함께 사용\n",
        "\n",
        "\n",
        ">1. 정렬과 공백\n",
        "        \n",
        "                \"%10s\" % \"hi\"\n",
        "                #output '        hi'\n",
        "\n",
        ">>전체 길이가 10개인 문자열 공간에서 hi를 오른쪽으로 정렬하고 그 앞의 나머지는 공백으로\n",
        "\n",
        "                \"%-10sjane.\" % 'hi'\n",
        "                #output 'hi        jane.'\n",
        "\n",
        ">>반대쪽인 왼쪽 정렬은 \"%-10s\"\n",
        "            \n",
        "            \n",
        ">>**%(좌/우)(공간)(자료형)**\n",
        "\n",
        "\n",
        "\n",
        "\n",
        ">2. 소수점 표현\n",
        "\n",
        ">>3.42134234를 소수점 4번 째 자리까지만 나타내고 싶은 경우\n",
        "\n",
        "                \"%0.4f\" % 3.42134234\n",
        "                #output '3.4213'\n",
        "\n",
        ">>**%(공간)(.)(소수점 이후 나올 숫자의 개수)f**\n",
        "\n",
        "\n",
        "                \"%10.4f\" % 3.42134234\n",
        "                #output '   3.4213'\n",
        "\n"
      ]
    },
    {
      "cell_type": "code",
      "metadata": {
        "id": "3OyXwzmPYF6E",
        "colab_type": "code",
        "colab": {}
      },
      "source": [
        "# 정렬과 공백 연습\n",
        "\n",
        "\n",
        "# 소수점 연습\n",
        "\n"
      ],
      "execution_count": 0,
      "outputs": []
    },
    {
      "cell_type": "markdown",
      "metadata": {
        "id": "YM1HZMOMW7r5",
        "colab_type": "text"
      },
      "source": [
        "## 관련 함수\n",
        "\n",
        "  >(문자열 변수 이름)(.)(함수의 이름)\n",
        "\n",
        "    - count\n",
        "\n",
        "        문자 개수 세기\n",
        "\n",
        "            a = \"hobby\"\n",
        "            a.count('b')\n",
        "            #output 2\n"
      ]
    },
    {
      "cell_type": "code",
      "metadata": {
        "id": "vbtNrM6_XFEZ",
        "colab_type": "code",
        "colab": {}
      },
      "source": [
        ""
      ],
      "execution_count": 0,
      "outputs": []
    },
    {
      "cell_type": "markdown",
      "metadata": {
        "id": "97Vm20VGgcT7",
        "colab_type": "text"
      },
      "source": [
        "\n",
        "    - find\n",
        "\n",
        "        위치 알려주기(1)\n",
        "\n",
        "            a = \"Python is best choice\"\n",
        "            a.find('b')\n",
        "            #output 10\n",
        "            a.find('k')\n",
        "            -1\n",
        "            \n",
        "        문자열 중 문자 b가 처음으로 나온 위치를 return\n",
        "        만약 찾는 문자나 문자열이 존재하지 않는다면 -1을 return한다.\n",
        "\n"
      ]
    },
    {
      "cell_type": "code",
      "metadata": {
        "id": "0GnbHjMIgc1O",
        "colab_type": "code",
        "colab": {}
      },
      "source": [
        ""
      ],
      "execution_count": 0,
      "outputs": []
    },
    {
      "cell_type": "markdown",
      "metadata": {
        "id": "TfFD8RjLggzN",
        "colab_type": "text"
      },
      "source": [
        "\n",
        "\n",
        "    - index\n",
        "\n",
        "        위치 알려주기(2)\n",
        "\n",
        "            a = \"Life is too short\"\n",
        "            a.index('t')\n",
        "            #output 8\n",
        "            a.index('k')\n",
        "            #output Value Error\n",
        "\n",
        "        문자열 중 문자 t가 맨 처음으로 나온 위치를 return \n",
        "        만약 찾는 문자나 문자열이 존재하지 않는다면 오류를 발생시킨다. "
      ]
    },
    {
      "cell_type": "code",
      "metadata": {
        "id": "sJ_1L4K9ghTL",
        "colab_type": "code",
        "colab": {}
      },
      "source": [
        ""
      ],
      "execution_count": 0,
      "outputs": []
    },
    {
      "cell_type": "markdown",
      "metadata": {
        "id": "0xDFLZ1Sg0cm",
        "colab_type": "text"
      },
      "source": [
        "    - join\n",
        "\n",
        "        문자열 삽입\n",
        "\n",
        "            a = \",\"\n",
        "            a.join('abcd')\n",
        "            #output 'a,b,c,d'\n",
        "\n",
        "        abcd라는 문자열의 각각의 문자 사이에 변수 a의 값인 ','를 삽입한다.\n",
        "\n"
      ]
    },
    {
      "cell_type": "code",
      "metadata": {
        "id": "sA0ahVpGg1MO",
        "colab_type": "code",
        "colab": {}
      },
      "source": [
        ""
      ],
      "execution_count": 0,
      "outputs": []
    },
    {
      "cell_type": "markdown",
      "metadata": {
        "id": "f3XKgYuRg6OX",
        "colab_type": "text"
      },
      "source": [
        "    - upper\n",
        "\n",
        "        소문자를 대문자로 바꾸기\n",
        "\n",
        "            a = \"hi\"\n",
        "            a.upper()\n",
        "            #output 'HI'\n",
        "\n",
        "    - lower\n",
        "\n",
        "            a = \"HI\"\n",
        "            a.lower()\n",
        "            #output 'hi'\n"
      ]
    },
    {
      "cell_type": "code",
      "metadata": {
        "id": "yWqmVu3yg6sM",
        "colab_type": "code",
        "colab": {}
      },
      "source": [
        ""
      ],
      "execution_count": 0,
      "outputs": []
    },
    {
      "cell_type": "markdown",
      "metadata": {
        "id": "DhIYKrOLg-8P",
        "colab_type": "text"
      },
      "source": [
        "\n",
        "    - lstrip\n",
        "\n",
        "        왼쪽 공백 지우기\n",
        "\n",
        "            a = \" hi \"\n",
        "            a.lstrip()\n",
        "            #output 'hi '\n",
        "\n",
        "    - rstrip\n",
        "\n",
        "        오른쪽 공백 지우기\n",
        "\n",
        "            a = \" hi \"\n",
        "            a.rstrip()\n",
        "            #output ' hi'\n",
        "\n",
        "    - strip\n",
        "\n",
        "        양쪽 공백 지우기\n",
        "\n",
        "            a = \" hi \"\n",
        "            a.strip()\n",
        "            #output 'hi'\n"
      ]
    },
    {
      "cell_type": "code",
      "metadata": {
        "id": "6dD-I1hPhE7d",
        "colab_type": "code",
        "colab": {}
      },
      "source": [
        "# lstrip \n",
        "\n",
        "\n",
        "\n"
      ],
      "execution_count": 0,
      "outputs": []
    },
    {
      "cell_type": "code",
      "metadata": {
        "id": "Lb0sHaP2zhEw",
        "colab_type": "code",
        "colab": {}
      },
      "source": [
        "# rstrip\n",
        "\n",
        "\n",
        "\n"
      ],
      "execution_count": 0,
      "outputs": []
    },
    {
      "cell_type": "code",
      "metadata": {
        "id": "FjsRkjO0zjAu",
        "colab_type": "code",
        "colab": {}
      },
      "source": [
        "# strip\n",
        "\n",
        "\n"
      ],
      "execution_count": 0,
      "outputs": []
    },
    {
      "cell_type": "markdown",
      "metadata": {
        "id": "XVcxkhbxhFQ7",
        "colab_type": "text"
      },
      "source": [
        "\n",
        "    - replace\n",
        "\n",
        "        문자열 바꾸기\n",
        "\n",
        "            a = \"Life is too short\"\n",
        "            a.replace(\"Life\", \"Your leg\")\n",
        "            #output 'Your leg is too short'\n",
        "\n",
        "        replace(바뀌게 될 문자열, 바꿀 문자열)처럼 사용하여 치환\n"
      ]
    },
    {
      "cell_type": "code",
      "metadata": {
        "id": "huqmMDFmhHxT",
        "colab_type": "code",
        "colab": {}
      },
      "source": [
        ""
      ],
      "execution_count": 0,
      "outputs": []
    },
    {
      "cell_type": "markdown",
      "metadata": {
        "id": "n7C3-eLYhID0",
        "colab_type": "text"
      },
      "source": [
        "\n",
        "    - split\n",
        "\n",
        "        문자열 나누기\n",
        "\n",
        "            a = \"Life is too short\"\n",
        "            a.split()\n",
        "            #output ['Life', 'is', 'too', 'short']\n",
        "            a = \"a:b:c:d\"\n",
        "            a.split(':')\n",
        "            #output ['a', 'b', 'c', 'd']\n",
        "\n",
        "        괄호 안에 아무런 값도 넣어주지 않으면 공백을 기준\n",
        "        괄호 안에 특정한 값이 있을 경우, 괄호 안의 값을 구분자로 해서 나눔\n",
        "        \n",
        "        나눈 값은 리스트에 하나씩 들어간다.\n",
        "\n"
      ]
    },
    {
      "cell_type": "code",
      "metadata": {
        "id": "1ZHG62iphJgD",
        "colab_type": "code",
        "colab": {}
      },
      "source": [
        ""
      ],
      "execution_count": 0,
      "outputs": []
    },
    {
      "cell_type": "markdown",
      "metadata": {
        "id": "cAWJmA8KXFiv",
        "colab_type": "text"
      },
      "source": [
        "## format 함수\n",
        "\n",
        "    문자열의 format 함수를 이용하면 좀 더 발전된 스타일로 문자열 포맷을 지정할 수 있다.\n",
        "\n",
        "    - 숫자 바로 대입\n",
        "\n",
        "            \"I eat {0} apples\".format(3)\n",
        "            #output 'I eat 3 apples'\n"
      ]
    },
    {
      "cell_type": "code",
      "metadata": {
        "id": "nl43mxUuXHmX",
        "colab_type": "code",
        "colab": {}
      },
      "source": [
        ""
      ],
      "execution_count": 0,
      "outputs": []
    },
    {
      "cell_type": "markdown",
      "metadata": {
        "id": "VK9zr0uqhmGB",
        "colab_type": "text"
      },
      "source": [
        "\n",
        "    - 문자열 바로 대입\n",
        "\n",
        "            \"I eat {0} apples\".format(\"five\")\n",
        "            #output 'I eat five apples'\n"
      ]
    },
    {
      "cell_type": "code",
      "metadata": {
        "id": "7Ot6DxYghl3h",
        "colab_type": "code",
        "colab": {}
      },
      "source": [
        ""
      ],
      "execution_count": 0,
      "outputs": []
    },
    {
      "cell_type": "markdown",
      "metadata": {
        "id": "XfD22rDnhlfW",
        "colab_type": "text"
      },
      "source": [
        "\n",
        "    - 숫자값을 가진 변수로 대입\n",
        "\n",
        "            number = 3\n",
        "            \"I eat {0} apples\".format(number)\n",
        "            #output 'I eat 3 apples'\n",
        "\n"
      ]
    },
    {
      "cell_type": "code",
      "metadata": {
        "id": "wJNBNBIFhlHf",
        "colab_type": "code",
        "colab": {}
      },
      "source": [
        ""
      ],
      "execution_count": 0,
      "outputs": []
    },
    {
      "cell_type": "markdown",
      "metadata": {
        "id": "6QqntGhnhvC9",
        "colab_type": "text"
      },
      "source": [
        "    - 2개 이상의 값 넣기\n",
        "\n",
        "            number = 10\n",
        "            day = \"three\"\n",
        "            \"I ate {0} apples. so I was sick for {1} days.\".format(number, day)\n",
        "            #output 'I ate 10 apples. so I was sick for three days.'\n",
        "\n",
        "        2개 이상의 값을 넣을 경우 문자열의 {0}, {1}과 같은 인덱스 항목들이 format함수의 입력값들로 순서에 맞게 바뀐다.\n",
        "\n"
      ]
    },
    {
      "cell_type": "code",
      "metadata": {
        "id": "LMZfjFXFhvch",
        "colab_type": "code",
        "colab": {}
      },
      "source": [
        ""
      ],
      "execution_count": 0,
      "outputs": []
    },
    {
      "cell_type": "markdown",
      "metadata": {
        "id": "k7PRZTuthz_S",
        "colab_type": "text"
      },
      "source": [
        "    - 변수로 여러개의 값 넣기\n",
        "\n",
        "            \"I ate {number} apples. so I was sick for {day} days.\".format(number=10, day=3)\n",
        "            #output 'I ate 10 apples. so I was sick for 3 days.'\n",
        "\n",
        "        {name}형태를 이용할 경우 format 함수의 입력값에는 반드시 name = value 와 같은 형태의 입력값이 있어야만 한다.\n",
        "        \n",
        "        number=10\n",
        "        day=3\n",
        "        \"I ate {number} apples. so I was sick for {day} days.\".format(number, day)\n",
        "        #output KeyError"
      ]
    },
    {
      "cell_type": "code",
      "metadata": {
        "id": "lMGU2Wc9h0aV",
        "colab_type": "code",
        "colab": {}
      },
      "source": [
        ""
      ],
      "execution_count": 0,
      "outputs": []
    },
    {
      "cell_type": "markdown",
      "metadata": {
        "id": "2JB5es1Jh4jd",
        "colab_type": "text"
      },
      "source": [
        "\n",
        "    - 인덱스와 변수를 혼용해서 넣기\n",
        "\n",
        "            \"I ate {0} apples. so I was sick for {day} days\".format(10, day=3)\n",
        "            #output 'I ate 10 apples. so I was sick for 3 days.'\n",
        "\n",
        "        인덱스 항목과 name=value 형태를 혼용하는 것도 가능하다.\n",
        "\n"
      ]
    },
    {
      "cell_type": "code",
      "metadata": {
        "id": "PJ4BlbJ-CSWd",
        "colab_type": "code",
        "colab": {}
      },
      "source": [
        ""
      ],
      "execution_count": 0,
      "outputs": []
    },
    {
      "cell_type": "markdown",
      "metadata": {
        "id": "OB3eROv9h9wI",
        "colab_type": "text"
      },
      "source": [
        "    - 왼쪽 정렬\n",
        "\n",
        "            \"{0:<10}\".format(\"hi\")\n",
        "            #output 'hi        '\n",
        "\n",
        "        :<10 표현식을 이용하면 치환되는 문자열을 왼쪽으로 정렬하고 문자열의 총 자릿수를 10으로 맞출 수 있다.\n",
        "\n",
        "    - 오른쪽 정렬\n",
        "\n",
        "            \"{0:>10}\".format(\"hi\")\n",
        "            #output '          hi'\n",
        "\n",
        "    - 가운데 정렬\n",
        "\n",
        "            \"{0:^10}\".format(\"hi\")\n",
        "            #output '     hi    '\n",
        "\n"
      ]
    },
    {
      "cell_type": "code",
      "metadata": {
        "id": "CPZKzEwbh-Kd",
        "colab_type": "code",
        "colab": {}
      },
      "source": [
        "# 왼쪽 정렬\n",
        "\n",
        "\n",
        "\n"
      ],
      "execution_count": 0,
      "outputs": []
    },
    {
      "cell_type": "code",
      "metadata": {
        "id": "lUTNt_jDChzs",
        "colab_type": "code",
        "colab": {}
      },
      "source": [
        "# 오른쪽 정렬\n",
        "\n",
        "\n",
        "\n"
      ],
      "execution_count": 0,
      "outputs": []
    },
    {
      "cell_type": "code",
      "metadata": {
        "id": "lPWZY9ZuCjtn",
        "colab_type": "code",
        "colab": {}
      },
      "source": [
        "# 가운데 정렬\n",
        "\n",
        "\n"
      ],
      "execution_count": 0,
      "outputs": []
    },
    {
      "cell_type": "markdown",
      "metadata": {
        "id": "a-a3err5iBX5",
        "colab_type": "text"
      },
      "source": [
        "    - 공백 채우기\n",
        "\n",
        "            \"{0:=^10}\".format(\"hi\")\n",
        "            #output '====hi===='\n",
        "            \n",
        "            \"{0:!<10}\".format(\"hi\")\n",
        "            #output 'hi!!!!!!!!'\n",
        "\n",
        "        정렬시 공백 대신에 지정한 문자 값으로 채워 넣는 것도 가능하다.\n",
        "\n",
        "\n",
        "    - 소수점 표현하기\n",
        "\n",
        "            y = 3.42134234\n",
        "            \"{0:0.4f}\".format(y)\n",
        "            #output '3.4213'\n",
        "\n",
        "            {0:10.4f}.format(y)\n",
        "            #output '   3.4213'\n",
        "\n",
        "        자릿수를 10으로 맞출 수 도 있다.\n",
        "\n",
        "\n",
        "    - '{' 또는 '}' 문자 표현하기\n",
        "\n",
        "            \"{{ and }}\".format()\n",
        "            #output '{ and }'\n",
        "\n",
        "        중괄호 문자를 문자 그대로 사용하고 싶은 경우 -> 2개를 연속해서 사용({{, }})"
      ]
    },
    {
      "cell_type": "code",
      "metadata": {
        "id": "bdXixdXMiBw6",
        "colab_type": "code",
        "colab": {}
      },
      "source": [
        "#공백 채우기\n",
        "\n",
        "\n",
        "\n"
      ],
      "execution_count": 0,
      "outputs": []
    },
    {
      "cell_type": "code",
      "metadata": {
        "id": "JrYtsYAQDgqn",
        "colab_type": "code",
        "colab": {}
      },
      "source": [
        "#소수점 표현하기\n",
        "\n",
        "\n",
        "\n"
      ],
      "execution_count": 0,
      "outputs": []
    },
    {
      "cell_type": "code",
      "metadata": {
        "id": "0Y7filYeDikt",
        "colab_type": "code",
        "colab": {}
      },
      "source": [
        "#{,}표현하기\n",
        "\n",
        "\n",
        "\n"
      ],
      "execution_count": 0,
      "outputs": []
    },
    {
      "cell_type": "code",
      "metadata": {
        "id": "fYmZkOXuDjYY",
        "colab_type": "code",
        "colab": {}
      },
      "source": [
        ""
      ],
      "execution_count": 0,
      "outputs": []
    }
  ]
}