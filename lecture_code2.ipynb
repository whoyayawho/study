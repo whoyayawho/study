{
  "nbformat": 4,
  "nbformat_minor": 0,
  "metadata": {
    "colab": {
      "name": "lecture_code2.ipynb",
      "version": "0.3.2",
      "provenance": [],
      "collapsed_sections": [],
      "include_colab_link": true
    },
    "kernelspec": {
      "name": "python3",
      "display_name": "Python 3"
    },
    "accelerator": "GPU"
  },
  "cells": [
    {
      "cell_type": "markdown",
      "metadata": {
        "id": "view-in-github",
        "colab_type": "text"
      },
      "source": [
        "<a href=\"https://colab.research.google.com/github/smkang0521-soslab/study/blob/master/lecture_code2.ipynb\" target=\"_parent\"><img src=\"https://colab.research.google.com/assets/colab-badge.svg\" alt=\"Open In Colab\"/></a>"
      ]
    },
    {
      "cell_type": "markdown",
      "metadata": {
        "id": "TbbxKyNmXp3O",
        "colab_type": "text"
      },
      "source": [
        "---\n",
        "# Data Type _ List"
      ]
    },
    {
      "cell_type": "markdown",
      "metadata": {
        "id": "kG5-ouslXNvr",
        "colab_type": "text"
      },
      "source": [
        "숫자 모음이나 문자(열) 모음을 나타내는 자료형\n",
        "\n",
        "## 리스트 생성과 사용\n",
        "\n",
        "        odd = [1, 3, 5, 7, 9]\n",
        "\n",
        "\n",
        "        a = [] #빈 리스트\n",
        "        b = [1, 2, 3] #숫자만\n",
        "        c = ['Life', 'is', 'too', 'short'] #문자열만\n",
        "        d = [1, 2, 'Life', 'is'] #숫자와 문자열 함꼐\n",
        "        e = [1, 2, ['Life', 'is']] #리스트 자체가 요소로\n",
        "\n"
      ]
    },
    {
      "cell_type": "code",
      "metadata": {
        "id": "mlxEpm-YYHY1",
        "colab_type": "code",
        "colab": {}
      },
      "source": [
        "#리스트를 만들어 봅시다.\n",
        "\n"
      ],
      "execution_count": 0,
      "outputs": []
    },
    {
      "cell_type": "markdown",
      "metadata": {
        "id": "_SQjIp5sYH2n",
        "colab_type": "text"
      },
      "source": [
        "## indexing\n",
        "\n",
        "        a = [1, 2, 3]\n",
        "        a\n",
        "        #output [1, 2, 3]\n",
        "\n",
        "        a[0]\n",
        "        #output 1\n",
        "        a[0] + a[2]\n",
        "        #output 4\n",
        "        a[-1]\n",
        "        #output 3\n",
        "\n"
      ]
    },
    {
      "cell_type": "code",
      "metadata": {
        "id": "YJuOb-KbYMOG",
        "colab_type": "code",
        "colab": {}
      },
      "source": [
        "#1개의 리스트 인덱싱\n",
        "\n"
      ],
      "execution_count": 0,
      "outputs": []
    },
    {
      "cell_type": "markdown",
      "metadata": {
        "id": "1GZ0fRjAkr7a",
        "colab_type": "text"
      },
      "source": [
        "\n",
        "    리스트 속 리스트\n",
        "\n",
        "        a = [1, 2, 3, ['a', 'b', 'c']]\n",
        "\n",
        "        a[0]\n",
        "        #output 1\n",
        "        a[-1]\n",
        "        #output ['a', 'b', 'c']\n",
        "        a[3]\n",
        "        #output ['a', 'b', 'c']\n",
        "\n",
        "     b를 꺼내기 위해서는?\n",
        "\n",
        "        a[-1][1]\n",
        "        #output 'b'\n",
        "\n",
        "\n"
      ]
    },
    {
      "cell_type": "code",
      "metadata": {
        "id": "m3Ie6CLaksVS",
        "colab_type": "code",
        "colab": {}
      },
      "source": [
        "# 리스트 속 리스트!\n",
        "\n"
      ],
      "execution_count": 0,
      "outputs": []
    },
    {
      "cell_type": "markdown",
      "metadata": {
        "id": "0CPnC4IrkyFv",
        "colab_type": "text"
      },
      "source": [
        "    - 삼중 리스트에서 인덱싱하기(+alpha)\n",
        "\n",
        "            a = [1, 2, ['a', 'b', ['Life', 'is']]]\n",
        "\n",
        "        여기에서 'Life'를 꺼내보자\n",
        "\n",
        "            a[2][2][0]\n",
        "            #output 'Life'"
      ]
    },
    {
      "cell_type": "code",
      "metadata": {
        "id": "R1CtFcGnkz8z",
        "colab_type": "code",
        "colab": {}
      },
      "source": [
        "# 삼중 리스트 인덱싱 연습\n",
        "\n"
      ],
      "execution_count": 0,
      "outputs": []
    },
    {
      "cell_type": "markdown",
      "metadata": {
        "id": "8b3CvfslYMwt",
        "colab_type": "text"
      },
      "source": [
        "## slicing\n",
        "\n",
        "        a = [1, 2, 3, 4, 5]\n",
        "        a[0:2]\n",
        "        #output [1, 2]\n",
        "\n",
        "    문자열에서 슬라이싱했던 것과 동일하다.\n",
        "\n",
        "        a = [1, 2, 3, 4, 5]\n",
        "        b = a[:2]\n",
        "        c = a[2:]\n",
        "        b\n",
        "        #output [1, 2]\n",
        "        c\n",
        "        #output [3, 4, 5]\n",
        "\n",
        "    중첩된 리스트에서 슬라이싱하기\n",
        "\n",
        "        a = [1, 2, 3, ['a', 'b', 'c'], 4, 5]\n",
        "        a[2:5]\n",
        "        #output [3, ['a', 'b', 'c'], 4]\n",
        "        a[3][:2]\n",
        "        #output ['a', 'b']\n",
        "\n"
      ]
    },
    {
      "cell_type": "code",
      "metadata": {
        "id": "o9tYpbtCYTRP",
        "colab_type": "code",
        "colab": {}
      },
      "source": [
        "#단일 리스트 슬라이싱\n",
        "list1 =\n",
        "\n",
        "\n"
      ],
      "execution_count": 0,
      "outputs": []
    },
    {
      "cell_type": "code",
      "metadata": {
        "id": "g02loDOcHXSs",
        "colab_type": "code",
        "colab": {}
      },
      "source": [
        "#중첩된 리스트 슬라이싱\n",
        "list2 =\n",
        "\n",
        "\n"
      ],
      "execution_count": 0,
      "outputs": []
    },
    {
      "cell_type": "markdown",
      "metadata": {
        "id": "l6wLwwq0YTpA",
        "colab_type": "text"
      },
      "source": [
        "## 연산자\n",
        "    1. +\n",
        "\n",
        "        리스트 더하기\n",
        "\n",
        "            a = [1, 2, 3]\n",
        "            b = [4, 5, 6]\n",
        "            a + b\n",
        "            #output [1, 2, 3, 4, 5, 6]\n",
        "\n",
        "    2. *\n",
        "\n",
        "        리스트 반복하기\n",
        "\n",
        "            a = [1, 2, 3]\n",
        "            a * 3\n",
        "            #output [1, 2, 3, 1, 2, 3, 1, 2, 3]\n",
        "\n",
        "\n",
        "\n"
      ]
    },
    {
      "cell_type": "code",
      "metadata": {
        "id": "4k_COd5tYZbY",
        "colab_type": "code",
        "colab": {}
      },
      "source": [
        "# 리스트 더하기\n",
        "\n",
        "\n"
      ],
      "execution_count": 0,
      "outputs": []
    },
    {
      "cell_type": "code",
      "metadata": {
        "id": "BCT_hhq-Hc9R",
        "colab_type": "code",
        "colab": {}
      },
      "source": [
        "# 리스트 반복하기\n",
        "\n",
        "\n",
        "\n"
      ],
      "execution_count": 0,
      "outputs": []
    },
    {
      "cell_type": "markdown",
      "metadata": {
        "id": "Yd8NzRTwldG7",
        "colab_type": "text"
      },
      "source": [
        "    - 초보자가 범하기 쉬운 리스트 연산 오류\n",
        "\n",
        "            a = [1, 2, 3]\n",
        "            a[2]+ \"hi\"\n",
        "\n",
        "        3hi가 출력될 것이라고 생각할 수 있으나 Type Error가 발생한다. 왜 그럴까?\n",
        "\n",
        "       \n",
        "       ! Solution !\n",
        "\n",
        "            str(a[2]) + \"hi\"\n",
        "\n",
        "        str()은 정수나 실수를 문자열의 형태로 바꾸어 주는 파이썬의 내장 함수이다. 이를 이용하여 위의 코드처럼 작성하면 '3hi'를 출력할 수 있다."
      ]
    },
    {
      "cell_type": "code",
      "metadata": {
        "id": "8xVkcauhlw8M",
        "colab_type": "code",
        "colab": {}
      },
      "source": [
        "# str()을 사용해봅시다.\n",
        "\n"
      ],
      "execution_count": 0,
      "outputs": []
    },
    {
      "cell_type": "markdown",
      "metadata": {
        "id": "AYaDHc12nUGD",
        "colab_type": "text"
      },
      "source": [
        "    3. in\n",
        "\n",
        "        리스트 안에 요소 x가 있는지 확인 하는 operator\n",
        "\n",
        "\n",
        "```\n",
        "a = [1, 2, 3]\n",
        "\n",
        "1 in a\n",
        "#output True\n",
        "\n",
        "5 in a\n",
        "#output False\n",
        "```\n",
        "\n"
      ]
    },
    {
      "cell_type": "code",
      "metadata": {
        "id": "xINEkneDnVGW",
        "colab_type": "code",
        "colab": {}
      },
      "source": [
        ""
      ],
      "execution_count": 0,
      "outputs": []
    },
    {
      "cell_type": "markdown",
      "metadata": {
        "id": "7e2q1UrvoD3I",
        "colab_type": "text"
      },
      "source": [
        "## List iteration_for\n",
        "\n",
        "    for operator로 리스트의 모든 요소들을 iterate 할 수 있다.\n",
        "    \n",
        "> for 요소 in 리스트 :\n",
        "\n",
        "\n",
        " \n",
        " \n",
        " \n",
        "    e.g.)\n",
        "            my_list = [1, 3, 4, 8]\n",
        "\n",
        "            for element in my_list:\n",
        "                print(element , end=' ')\n",
        "    \n",
        "            #output 1 3 4 8\n",
        "\n"
      ]
    },
    {
      "cell_type": "code",
      "metadata": {
        "id": "lS0jyDymo6GO",
        "colab_type": "code",
        "colab": {}
      },
      "source": [
        "\n",
        "\n"
      ],
      "execution_count": 0,
      "outputs": []
    },
    {
      "cell_type": "markdown",
      "metadata": {
        "id": "4Y08WhaIYZ7V",
        "colab_type": "text"
      },
      "source": [
        "## 수정, 변경, 삭제\n",
        "   1. 하나의 값 수정\n",
        "\n",
        "            a = [1, 2, 3]\n",
        "            a[2] = 4\n",
        "            a\n",
        "            #output [1, 2, 4]\n"
      ]
    },
    {
      "cell_type": "code",
      "metadata": {
        "id": "bhxuJw0TYekq",
        "colab_type": "code",
        "colab": {}
      },
      "source": [
        "\n",
        "\n"
      ],
      "execution_count": 0,
      "outputs": []
    },
    {
      "cell_type": "markdown",
      "metadata": {
        "id": "fFYjFPYnl6n4",
        "colab_type": "text"
      },
      "source": [
        "\n",
        "   2. 연속된 범위의 값 수정\n",
        "\n",
        "            a = [1, 2, 4]\n",
        "            \n",
        "            a[1:2]\n",
        "            #output [2]\n",
        "            \n",
        "            a[1:2] = ['a', 'b', 'c']\n",
        "            a\n",
        "            #output [1, 'a', 'b', 'c', 4]\n",
        "\n",
        "\n",
        "   - 리스트 수정시 주의할 점\n",
        "\n",
        "        a[1:2] = ['a', 'b', 'c'] **VS** a[1] = ['a', 'b', 'c']\n",
        "            \n",
        "\n",
        "            a[1] = ['a', 'b', 'c'] → 리스트 a의 두번째 요소를 ['a', 'b', 'c']로 바꾼다\n",
        "            #type(a[1]) -> int\n",
        "\n",
        "            a[1:2] = ['a', 'b', 'c'] → a[1]에서 a[2] 사이의 리스트를 'a', 'b', 'c'로 바꾼다\n",
        "            #type(a[1:2]) -> list\n",
        "            \n",
        "\n",
        "            a[1] = ['a', 'b', 'c']\n",
        "            a\n",
        "            #output [1, ['a', 'b', 'c'], 4]\n",
        "\n"
      ]
    },
    {
      "cell_type": "code",
      "metadata": {
        "id": "Nxw4NuGNl7GH",
        "colab_type": "code",
        "colab": {}
      },
      "source": [
        "# 리스트의 요소를 바꾸기\n",
        "\n"
      ],
      "execution_count": 0,
      "outputs": []
    },
    {
      "cell_type": "code",
      "metadata": {
        "id": "2S_i3OUSLjoH",
        "colab_type": "code",
        "colab": {}
      },
      "source": [
        "# 리스트에 리스트 넣기\n",
        "\n",
        "\n"
      ],
      "execution_count": 0,
      "outputs": []
    },
    {
      "cell_type": "markdown",
      "metadata": {
        "id": "VOKwI_HVl7sB",
        "colab_type": "text"
      },
      "source": [
        "3. [ ]사용해서 요소 삭제\n",
        "\n",
        "        a = [1, 'a', 'b', 'c', 4]\n",
        "        \n",
        "        a[1:3] = []\n",
        "        a\n",
        "        #output [1, 'c', 4]\n",
        "\n",
        "       \n",
        "\n",
        "4. del 함수 사용해서 요소 삭제\n",
        "\n",
        "        a\n",
        "        #output [1, 'c', 4]\n",
        "        del a[1]\n",
        "        a\n",
        "        #output [1, 4]\n",
        "\n",
        "\n",
        "       del 함수는 파이썬이 자체적으로 가지고 있는 삭제 함수\n",
        "       * del[x] x번째 요소값을 삭제\n",
        "       * del[x:y] x번째부터 y번째 요소 사이의 값을 삭제\n",
        "\n",
        "      del 객체\n",
        "        #객체란 파이썬에서 사용되는 모든 자료형을 말한다.\n",
        "        \n",
        "        "
      ]
    },
    {
      "cell_type": "code",
      "metadata": {
        "id": "i_PeAIYxmAcI",
        "colab_type": "code",
        "colab": {}
      },
      "source": [
        "# [ ]사용해서 리스트 삭제\n",
        "\n",
        "\n",
        "\n",
        "\n",
        "\n"
      ],
      "execution_count": 0,
      "outputs": []
    },
    {
      "cell_type": "code",
      "metadata": {
        "id": "-xhnB79SQzqX",
        "colab_type": "code",
        "colab": {}
      },
      "source": [
        "# del 사용해서 리스트 삭제\n",
        "\n",
        "\n",
        "\n"
      ],
      "execution_count": 0,
      "outputs": []
    },
    {
      "cell_type": "markdown",
      "metadata": {
        "id": "Xg9JAR1KYfKt",
        "colab_type": "text"
      },
      "source": [
        "## 함수들\n",
        "\n",
        "   (리스트 변수명)(.)(함수)\n",
        "\n",
        "    - append\n",
        "\n",
        "        리스트에 요소 추가\n",
        "\n",
        "            a = [1, 2, 3]\n",
        "            a.append(4)\n",
        "            a\n",
        "            #output [1, 2, 3, 4]\n",
        "\n",
        "        리스트 안에는 어떤 자료형도 추가할 수 있다.\n",
        "\n",
        "            a.append([5, 6])\n",
        "            a\n",
        "            #output [1, 2, 3, 4, [5, 6]]\n"
      ]
    },
    {
      "cell_type": "code",
      "metadata": {
        "id": "uXgoIToJYh4O",
        "colab_type": "code",
        "colab": {}
      },
      "source": [
        "\n",
        "\n"
      ],
      "execution_count": 0,
      "outputs": []
    },
    {
      "cell_type": "markdown",
      "metadata": {
        "id": "sG68IQAUpM3M",
        "colab_type": "text"
      },
      "source": [
        "    - extend\n",
        "\n",
        "        extend(x)에서 x에는 리스트만 올 수 있으며 원래의 a 리스트에 x 리스트를 더하게 된다.\n",
        "\n",
        "            a = [1, 2, 3]\n",
        "            a.extend([4, 5])\n",
        "            a\n",
        "            #output [1, 2, 3, 4, 5]\n",
        "            \n",
        "            \n",
        "            b = [6, 7]\n",
        "            a.extend(b)\n",
        "            a\n",
        "            #output [1, 2, 3, 4, 5, 6, 7]\n",
        "            \n",
        "\n",
        "        a.extend([4, 5])는 a += [4, 5]와 동일하고,\n",
        "        a += [4, 5]는 a = a+[4, 5]와 같은 표현이다."
      ]
    },
    {
      "cell_type": "code",
      "metadata": {
        "id": "rRykIxqKpNN_",
        "colab_type": "code",
        "colab": {}
      },
      "source": [
        "\n",
        "\n"
      ],
      "execution_count": 0,
      "outputs": []
    },
    {
      "cell_type": "markdown",
      "metadata": {
        "id": "OXUJGsCOo8YJ",
        "colab_type": "text"
      },
      "source": [
        "    - index\n",
        "\n",
        "        index(x) 함수는 리스트에 x라는 값이 있으면 x의 위치값을 리턴한다.\n",
        "\n",
        "            a = [1, 2, 3]\n",
        "            a.index(3)\n",
        "            #output 2\n",
        "            \n",
        "            a.index(1)\n",
        "            #output 0\n",
        "            \n",
        "            \n",
        "            a.index(0)\n",
        "            #output ValueError\n",
        "\n"
      ]
    },
    {
      "cell_type": "code",
      "metadata": {
        "id": "76Pm3v__o8vW",
        "colab_type": "code",
        "colab": {}
      },
      "source": [
        "\n",
        "\n"
      ],
      "execution_count": 0,
      "outputs": []
    },
    {
      "cell_type": "markdown",
      "metadata": {
        "id": "lCiGDSmeo_uo",
        "colab_type": "text"
      },
      "source": [
        "    - insert\n",
        "\n",
        "        insert(a, b)는 리스트의 a번째 위치에 b를 삽입하는 함수이다.\n",
        "            a = [4, 1, 2, 3]\n",
        "            a.insert(3, 5)\n",
        "            a\n",
        "            #output [4, 1, 2, 5, 3]\n",
        "\n"
      ]
    },
    {
      "cell_type": "code",
      "metadata": {
        "id": "YdWof7POpAJ0",
        "colab_type": "code",
        "colab": {}
      },
      "source": [
        "\n",
        "\n"
      ],
      "execution_count": 0,
      "outputs": []
    },
    {
      "cell_type": "markdown",
      "metadata": {
        "id": "YQRjO8HrpDr9",
        "colab_type": "text"
      },
      "source": [
        "    - remove\n",
        "\n",
        "        리스트에서 첫 번째로 나오는 x를 삭제하는 함수이다.\n",
        "\n",
        "            a = [1, 2, 3, 1, 2, 3]\n",
        "            a.remove(3)\n",
        "            #output [1, 2, 1, 2, 3]\n",
        "\n",
        "        다시 한 번 a.remove(3)을 실행하면 다시 3이 삭제된다.\n",
        "\n",
        "\n"
      ]
    },
    {
      "cell_type": "code",
      "metadata": {
        "id": "xW1B8CC5pD-5",
        "colab_type": "code",
        "colab": {}
      },
      "source": [
        "\n",
        "\n"
      ],
      "execution_count": 0,
      "outputs": []
    },
    {
      "cell_type": "markdown",
      "metadata": {
        "id": "llhVd8BppEXZ",
        "colab_type": "text"
      },
      "source": [
        "    - pop\n",
        "\n",
        "        리스트의 맨 마지막 요소를 돌려주고 그 요소는 삭제하는 함수이다.\n",
        "\n",
        "            a = [1, 2, 3]\n",
        "            a.pop()\n",
        "            #output 3\n",
        "            \n",
        "            a\n",
        "            #output [1, 2]\n",
        "\n",
        "\n",
        "\n",
        "        pop(x)는 리스트의 x번째 요소를 돌려주고 그 요소는 삭제한다.\n",
        "\n",
        "            a =[1, 2, 3]\n",
        "            a.pop(1)\n",
        "            #output 2\n",
        "            \n",
        "            a\n",
        "            #output [1, 3]\n",
        "\n",
        "\n"
      ]
    },
    {
      "cell_type": "code",
      "metadata": {
        "id": "1pEpzfQLpLeC",
        "colab_type": "code",
        "colab": {}
      },
      "source": [
        "\n",
        "\n"
      ],
      "execution_count": 0,
      "outputs": []
    },
    {
      "cell_type": "markdown",
      "metadata": {
        "id": "-8H2Tr0-pL0F",
        "colab_type": "text"
      },
      "source": [
        "    - count\n",
        "\n",
        "        count(x)는 리스트 내에 x가 몇 개 있는지 조사하여 그 개수를 돌려주는 함수이다.\n",
        "\n",
        "            a = [1, 2, 3, 1]\n",
        "            a.count(1)\n",
        "            #output 2\n",
        "\n"
      ]
    },
    {
      "cell_type": "code",
      "metadata": {
        "id": "7maQsj8lpMPe",
        "colab_type": "code",
        "colab": {}
      },
      "source": [
        "\n",
        "\n"
      ],
      "execution_count": 0,
      "outputs": []
    },
    {
      "cell_type": "markdown",
      "metadata": {
        "id": "VK9JNLCHoyGV",
        "colab_type": "text"
      },
      "source": [
        "\n",
        "    - sort\n",
        "\n",
        "        리스트 정렬_1\n",
        "\n",
        "            a = [1, 4, 3, 2]\n",
        "            a.sort()\n",
        "            a\n",
        "            #output [1, 2, 3, 4]\n",
        "\n",
        "            a = ['a', 'c', 'b']\n",
        "            a.sort()\n",
        "            a\n",
        "            #output ['a', 'b', 'c']\n",
        "            \n",
        "            a.sort(reverse=True)\n",
        "            a\n",
        "            #output ['c', 'b', 'a']\n",
        "\n"
      ]
    },
    {
      "cell_type": "code",
      "metadata": {
        "id": "R4PPlP4_oyge",
        "colab_type": "code",
        "colab": {}
      },
      "source": [
        "# 오름차순\n",
        "\n",
        "\n",
        "\n"
      ],
      "execution_count": 0,
      "outputs": []
    },
    {
      "cell_type": "code",
      "metadata": {
        "id": "6W7leJgAVWm8",
        "colab_type": "code",
        "colab": {}
      },
      "source": [
        "# 내림차순\n",
        "\n",
        "\n",
        "\n"
      ],
      "execution_count": 0,
      "outputs": []
    },
    {
      "cell_type": "markdown",
      "metadata": {
        "id": "kxwN6NBlo3q5",
        "colab_type": "text"
      },
      "source": [
        "    - reverse\n",
        "\n",
        "        리스트를 역순으로 뒤집어 준다. 요소들을 순서대로 정렬한 다음 다시 역순으로 정렬하는 것이 아니라, 현재의 리스트를 그대로 거꾸로 뒤집어 준다.\n",
        "\n",
        "            a = ['a', 'c', 'b']\n",
        "            a.reverse()\n",
        "            a\n",
        "            #output ['b', 'c', 'a']\n",
        "\n"
      ]
    },
    {
      "cell_type": "code",
      "metadata": {
        "id": "up8c_qYxo4MK",
        "colab_type": "code",
        "colab": {}
      },
      "source": [
        "\n",
        "\n"
      ],
      "execution_count": 0,
      "outputs": []
    },
    {
      "cell_type": "markdown",
      "metadata": {
        "id": "BYELVgavqzMj",
        "colab_type": "text"
      },
      "source": [
        "\n",
        "    - sorted()\n",
        "\n",
        "        리스트 정렬_2\n",
        "\n",
        "        a = ['a', 'c', 'b']\n",
        "        sorted(a)\n",
        "        #output ['a', 'b', 'c']\n",
        "\n",
        "---\n",
        "\n",
        "        리스트 속 리스트도 정렬할 수 있다.\n",
        "\n",
        "        L = [['sarah', 'Jr', 30], ['rich', 'So', 10], ['bill', 'Jr', 200]]\n",
        "\n",
        "\n",
        "        sorted(L)\n",
        "        #output [['sarah', 'Jr', 30], ['rich', 'So', 10], ['bill', 'Jr', 200]]\n",
        "        # index 0 을 비교하여 정렬한다.\n",
        "\n",
        "\n",
        "\n",
        "        from operator import itemgetter\n",
        "        \n",
        "        \n",
        "        sorted(L, key=itemgetter(1))\n",
        "        #output [['sarah', 'Jr', 30], ['bill', 'Jr', 200], ['rich', 'So', 10]]\n",
        "        # index 1 을 비교하여 정렬한다.\n",
        "\n",
        "\n",
        "        sorted(L, key=itemgetter(2))\n",
        "        #output [['rich', 'So', 10], ['bill', 'Jr', 200], ['sarah', 'Jr', 30]]\n",
        "        # index 2 을 비교하여 정렬한다.\n",
        "\n",
        "\n",
        "        sorted(L, key=itemgetter(1,2))\n",
        "        #output [['bill', 'Jr', 200], ['sarah', 'Jr', 30], ['rich', 'So', 10]]\n",
        "        # index 1 을 비교한 후, index 2를 비교 정렬한다.\n",
        "\n",
        "\n",
        "\n",
        "\n"
      ]
    },
    {
      "cell_type": "code",
      "metadata": {
        "id": "VZvbxv1Fq0C9",
        "colab_type": "code",
        "colab": {}
      },
      "source": [
        "#sorted로 리스트 속 리스트 정렬하기\n",
        "\n"
      ],
      "execution_count": 0,
      "outputs": []
    },
    {
      "cell_type": "code",
      "metadata": {
        "id": "Xf53s4BkWpOj",
        "colab_type": "code",
        "colab": {}
      },
      "source": [
        "#sorted로 리스트 속 리스트 정렬하기2\n",
        "from operator import itemgetter8\n",
        "\n"
      ],
      "execution_count": 0,
      "outputs": []
    },
    {
      "cell_type": "markdown",
      "metadata": {
        "id": "lVNiH_hvt9o4",
        "colab_type": "text"
      },
      "source": [
        "\n",
        "### The Sorted Function\n",
        "\n",
        "        sort는 오직 리스트에서만 적용된다. \n",
        "        문자열을 정렬하려면 어떻게 해야할까?\n",
        "        \n",
        "        1. 스트링을 list()를 이용하여 한 문자씩 저장한 리스트를 만든다.\n",
        "        2. 리스트를 정렬한다. -> sort\n",
        "        3. join을 이용하여 string을 다시 합친다.\n",
        "        \n",
        "        \n",
        "        하지만!\n",
        "        sorted 함수는 문자열에도 적용할 수 있다. 아래 sorted 함수의 작동순서를 보자.\n",
        "        \n",
        "        1. 문자열을 개별요소로 나눈다.\n",
        "        2. 요소들을 정렬한다.\n",
        "        3. 정렬된 요소들을 리스트로 return 한다.\n",
        "        \n",
        "            my_list = [27, 56, 4, 21]\n",
        "            sorted(my_list)\n",
        "            #output [4, 21, 27, 56]\n",
        "            \n",
        "            my_str = 'Hi mom'\n",
        "            sorted(my_str)\n",
        "            #output [' ', 'H', 'i', 'm', 'm', 'o']\n",
        "            \n",
        "            \n",
        "       * sort VS sorted\n",
        "       \n",
        "sort|sorted\n",
        "---|---\n",
        "list에만 사용 가능|list와 string에 사용 가능\n",
        "list가 변경됨 | list가 변경되지 않음\n",
        "            \n",
        "        \n",
        "        "
      ]
    },
    {
      "cell_type": "code",
      "metadata": {
        "id": "prn-o9o6uAvv",
        "colab_type": "code",
        "colab": {}
      },
      "source": [
        "# sorted로 string을 정렬해보자\n",
        "\n",
        "\n"
      ],
      "execution_count": 0,
      "outputs": []
    },
    {
      "cell_type": "markdown",
      "metadata": {
        "id": "xX45VGEQYigE",
        "colab_type": "text"
      },
      "source": [
        "---\n",
        "# Data Type _ Tuple\n",
        "\n",
        "## 생성\n",
        "    1. (과 )으로 둘러싸인다. (vs. list는 []로)\n",
        "    2. 튜플은 그 값을 바꿀 수 없다. (vs. list는 mutable 자료형)\n",
        "\n",
        "        t1 = ()\n",
        "        t2 = (1,)\n",
        "        t3 = (1, 2, 3)\n",
        "        t4 = 1, 2, 3\n",
        "        t5 = ('a', 'b', ('ab', 'cd'))\n",
        "\n",
        "    리스트와 거의 비슷하지만 2가지 차이점이 있다.\n",
        "\n",
        "    1. t2 = (1,)처럼 단지 1개의 요소만을 가질 때는 요소 뒤에 콤마를 반드시 붙여야 한다\n",
        "    2. t4 = 1, 2, 3처럼 괄호를 생략해도 무방하다\n",
        "\n",
        "    프로그램 실행하는 동안 그 값이 항상 변하지 않기를 바란다 -> 튜플\n",
        "    이와 반대로 수시로 그 값을 변화시켜야 할 경우 -> 리스트\n",
        "\n"
      ]
    },
    {
      "cell_type": "code",
      "metadata": {
        "id": "66HeUfRdTM-B",
        "colab_type": "code",
        "colab": {}
      },
      "source": [
        "# 튜플을 만들어 봅시다.\n",
        "\n"
      ],
      "execution_count": 0,
      "outputs": []
    },
    {
      "cell_type": "markdown",
      "metadata": {
        "id": "840p0XgJZDgc",
        "colab_type": "text"
      },
      "source": [
        "## 삭제와 변경\n",
        "    1. 튜플 요소 삭제시 오류\n",
        "\n",
        "            t1 = (1, 2, 'a', 'b')\n",
        "            del t1[0]\n",
        "            #output TypeError\n",
        "\n",
        "        del 함수로 지우려고 했으나 오류가 뜬다.\n",
        "\n",
        "    2. 튜플 요소 변경시 오류\n",
        "\n",
        "            t1 = (1, 2, 'a', 'b')\n",
        "            t1[0] = 'c'\n",
        "            #output TypeError\n",
        "\n"
      ]
    },
    {
      "cell_type": "code",
      "metadata": {
        "id": "ggnMXw7IZI-a",
        "colab_type": "code",
        "colab": {}
      },
      "source": [
        "# 오류를 시도해봅시다...(?)\n",
        "\n"
      ],
      "execution_count": 0,
      "outputs": []
    },
    {
      "cell_type": "markdown",
      "metadata": {
        "id": "jxwrsAdSZJcB",
        "colab_type": "text"
      },
      "source": [
        "## indexing\n",
        "\n",
        "        t1 = (1, 2, 'a', 'b')\n",
        "        t1[0]\n",
        "        #output 1\n",
        "        \n",
        "        t1[3]\n",
        "        #output 'b'\n",
        "\n"
      ]
    },
    {
      "cell_type": "code",
      "metadata": {
        "id": "hx-k_MXEZNDG",
        "colab_type": "code",
        "colab": {}
      },
      "source": [
        ""
      ],
      "execution_count": 0,
      "outputs": []
    },
    {
      "cell_type": "markdown",
      "metadata": {
        "id": "K9ycLMinZNtz",
        "colab_type": "text"
      },
      "source": [
        "## slicing\n",
        "\n",
        "        t1 = (1, 2, 'a', 'b')\n",
        "        t1[1:]\n",
        "        #output (2, 'a', 'b')\n",
        "\n",
        "\n"
      ]
    },
    {
      "cell_type": "code",
      "metadata": {
        "id": "MskiNI4VZQZg",
        "colab_type": "code",
        "colab": {}
      },
      "source": [
        ""
      ],
      "execution_count": 0,
      "outputs": []
    },
    {
      "cell_type": "markdown",
      "metadata": {
        "id": "XQVY-rcyZQ-j",
        "colab_type": "text"
      },
      "source": [
        "## +\n",
        "\n",
        "        t2 = (3, 4)\n",
        "        t1 + t2\n",
        "        #output (1, 2, 'a', 'b', 3, 4)\n",
        "\n"
      ]
    },
    {
      "cell_type": "code",
      "metadata": {
        "id": "RvzkZTgSZULW",
        "colab_type": "code",
        "colab": {}
      },
      "source": [
        ""
      ],
      "execution_count": 0,
      "outputs": []
    },
    {
      "cell_type": "markdown",
      "metadata": {
        "id": "u8JJ-plvZUqL",
        "colab_type": "text"
      },
      "source": [
        "## *\n",
        "\n",
        "        t2 * 3\n",
        "        #output (3, 4, 3, 4, 3, 4)"
      ]
    },
    {
      "cell_type": "code",
      "metadata": {
        "id": "RXj2NfjzsdfE",
        "colab_type": "code",
        "colab": {}
      },
      "source": [
        ""
      ],
      "execution_count": 0,
      "outputs": []
    },
    {
      "cell_type": "markdown",
      "metadata": {
        "id": "bN1cozrjZWzf",
        "colab_type": "text"
      },
      "source": [
        "---\n",
        "# Data Type _ Dictionary\n",
        "\n",
        "    대응관계를 나타낼 수 있는 자료형. 연관 배열(Associative array)또는 해시(Hash)라고 한다.\n",
        "    파이썬에서는 이러한 자료형을 딕셔너리라고 한다.\n",
        "\n",
        "    딕셔너리는 리스트나 튜플처럼 순차적으로 해당 요소값을 구하지 않고 Key 를 통해 Value를 얻는 것이다. \n",
        "\n",
        "## 생성\n",
        "\n",
        "        {Key1:Value1, Key2:Value2, Key3:Value3, ...} \n",
        "\n",
        "    \n",
        "    Key에는 변하지 않는 값을 사용하고, Value에는 변하는 값과 변하지 않는 값 모두 사용할 수 있다.\n",
        "\n",
        "        dic = {'name':'Jungyeon', 'phone':'0119993323', 'birth': '1118'}\n",
        "\n",
        "Key | Value\n",
        "---|---\n",
        "name|Jungyeon\n",
        "phone|0119993323\n",
        "birth|1118\n",
        "\n",
        "\n",
        "\n",
        "        a = {1: 'hi'}\n",
        "\n",
        "        a = {'a': [1, 2, 3]}\n",
        "\n",
        "    Value에 리스트도 넣을 수 있다.\n",
        "\n"
      ]
    },
    {
      "cell_type": "code",
      "metadata": {
        "id": "U8leik4Ln8Oh",
        "colab_type": "code",
        "colab": {}
      },
      "source": [
        "#딕셔너리를 만들어 봅시다.\n",
        "\n"
      ],
      "execution_count": 0,
      "outputs": []
    },
    {
      "cell_type": "markdown",
      "metadata": {
        "id": "asgWoQ8In8ud",
        "colab_type": "text"
      },
      "source": [
        "## 추가\n",
        "\n",
        "    추가되는 순서는 원칙이 없고 '무엇이 추가 되었는가'가 중요하다.\n",
        "\n",
        "        a = {1: 'a'}\n",
        "        a[2] = 'b'                               #{2: 'b'}쌍 추가\n",
        "        a\n",
        "        #output {2: 'b', 1: 'a'}\n",
        "\n",
        "\n",
        "\n",
        "        a['name'] = 'pey'                        #{'name':'pey'}쌍 추가\n",
        "        #output {'name':'pey', 2:'b', 1:'a'}\n",
        "\n",
        "\n",
        "\n",
        "        a[3] = [1, 2, 3]                         #{3:[1, 2, 3]}쌍 추가\n",
        "        #output {'name': 'pey', 3:[1, 2, 3], 2:'b', 1:'a'}\n",
        "\n",
        "\n",
        "\n"
      ]
    },
    {
      "cell_type": "code",
      "metadata": {
        "id": "6UFOqECRoB_R",
        "colab_type": "code",
        "colab": {}
      },
      "source": [
        "# 딕셔너리에 요소를 추가해봅시다.\n",
        "\n"
      ],
      "execution_count": 0,
      "outputs": []
    },
    {
      "cell_type": "markdown",
      "metadata": {
        "id": "EN5wq9T-oChD",
        "colab_type": "text"
      },
      "source": [
        "## 삭제\n",
        "\n",
        "        del a[1]\n",
        "        a\n",
        "        #output {'name': 'pey', 3: [1, 2, 3], 2: 'b'}\n",
        "\n",
        "    del a[key]를 입력하면 지정한 key에 해당하는 {key : value} 쌍이 삭제 된다.\n",
        "\n"
      ]
    },
    {
      "cell_type": "code",
      "metadata": {
        "id": "RnrmHwLxoG0b",
        "colab_type": "code",
        "colab": {}
      },
      "source": [
        "# 딕셔너리 요소를 지워봅시다.\n",
        "\n"
      ],
      "execution_count": 0,
      "outputs": []
    },
    {
      "cell_type": "markdown",
      "metadata": {
        "id": "Zw4FNMl8oHYD",
        "colab_type": "text"
      },
      "source": [
        "## 사용 방법\n",
        "\n",
        "    딕셔너리는 리스트나 튜플로 나타내기 까다로운 대응관계를 나타내기 매우 좋다.\n",
        "\n",
        "         {'김연아':\"피겨스케이팅\", \"류현진\":\"야구\", \"박지성\":\"축구\", \"귀도\":\"파이썬\"}\n",
        "\n",
        "    - Key를 사용해 Value 얻기\n",
        "\n",
        "            grade = {'pey': 10, 'julliet': 99}\n",
        "            \n",
        "            grade['pey']\n",
        "            #output 10\n",
        "            \n",
        "            grade['julliet']\n",
        "            #output 99\n",
        "\n",
        "        딕셔너리는 오직 단 하나의 방법인 Key를 사용해서 Value를 얻어내는 방법 밖에 없다.\n",
        "\n",
        "            a = {1:'a', 2:'b'}\n",
        "            a[1]\n",
        "            #output 'a'\n",
        "            a[2]\n",
        "            #output 'b'\n",
        "\n",
        "\n",
        "\n"
      ]
    },
    {
      "cell_type": "code",
      "metadata": {
        "id": "yCnNvuVboMpb",
        "colab_type": "code",
        "colab": {}
      },
      "source": [
        "# Key를 사용해 Value를 얻어보자\n",
        "\n",
        "\n",
        "\n"
      ],
      "execution_count": 0,
      "outputs": []
    },
    {
      "cell_type": "markdown",
      "metadata": {
        "id": "HqFxKTeOoNQb",
        "colab_type": "text"
      },
      "source": [
        "## 주의사항\n",
        "\n",
        "    1. Key는 고유한 값이므로 중복되는 Key 값을 설정해 놓으면 하나를 제외한 나머지 것들이 모두 무시된다.어떤 것이 무시될지는 예측할 수 없다. \n",
        "    \n",
        "        a = {1:'a', 1:'b'}\n",
        "        a\n",
        "        #output {1:'b'}\n",
        "\n",
        "\n",
        "    2. Key에 리스트를 쓸 수 없고, 튜플은 쓸 수 있다. 딕셔너리의 Key로 쓸 수 있는지의 유무는 Key가 변하는 값인지 변하지 않는 값인지에 달려있다.\n",
        "\n",
        "        a = {[1, 2]: 'hi'}\n",
        "        #output TypeError\n",
        "\n",
        "    Key 값으로 딕셔너리를 사용할 수 없음도 마찬가지 이유이다. \n",
        "    단, Value에는 변하는 값이든 변하지 않는 값이든 상관없이 아무 값이나 넣을 수 있다.\n",
        "\n"
      ]
    },
    {
      "cell_type": "code",
      "metadata": {
        "id": "DoMG-GtfoQlI",
        "colab_type": "code",
        "colab": {}
      },
      "source": [
        "# Key값으로 무엇을 사용할 수 있는지 확인해 봅시다.\n",
        "\n",
        "\n",
        "\n",
        "\n"
      ],
      "execution_count": 0,
      "outputs": []
    },
    {
      "cell_type": "markdown",
      "metadata": {
        "id": "L2cmqX4ooRF8",
        "colab_type": "text"
      },
      "source": [
        "## 함수들\n",
        "    - keys\n",
        "\n",
        "        Key 리스트 만들기\n",
        "\n",
        "            a = {'name': 'pey', 'phone':'019993323', 'birth':'1118'}\n",
        "            a.keys()\n",
        "            #output dict_keys(['name', 'phone', 'birth'])\n",
        "\n",
        "        a.keys()는 딕셔너리 a의 Key만을 모아서 dict_keys라는 객체를 return한다.\n",
        "\n",
        "\n",
        "        dict_keys 객체는\n",
        "        \n",
        "        * 리스트를 사용하는 것과 차이가 없다.\n",
        "        * 리스트의 고유 함수인 append, insert, pop, remove, sort 등의 함수를 수행할 수는 없다.\n",
        "\n",
        "            for k in a.keys():\n",
        "            \tprint(k)\n",
        "            \n",
        "            #output\n",
        "            phone\n",
        "            birth\n",
        "            name\n",
        "\n",
        "        dict_keys 객체를 리스트로 변환하려면 다음과 같이 하면 된다.\n",
        "\n",
        "            list(a.keys())\n",
        "            #output ['phone', 'birth', 'name']\n"
      ]
    },
    {
      "cell_type": "code",
      "metadata": {
        "id": "UfBSVaRVoT3c",
        "colab_type": "code",
        "outputId": "4303a006-94da-4f0d-8717-ba5fbb0eda13",
        "colab": {
          "base_uri": "https://localhost:8080/",
          "height": 36
        }
      },
      "source": [
        "a = {'name': 'pey', 'phone':'019993323', 'birth':'1118'}\n",
        "type(a.keys())"
      ],
      "execution_count": 0,
      "outputs": [
        {
          "output_type": "execute_result",
          "data": {
            "text/plain": [
              "dict_keys"
            ]
          },
          "metadata": {
            "tags": []
          },
          "execution_count": 11
        }
      ]
    },
    {
      "cell_type": "markdown",
      "metadata": {
        "id": "EoksQdiEAt19",
        "colab_type": "text"
      },
      "source": [
        "\n",
        "    - values\n",
        "\n",
        "        Value 리스트 만들기\n",
        "\n",
        "            a.values()\n",
        "            #output dict_values(['pey', '0119993323', '1118'])\n",
        "\n",
        "        values 함수를 호출하면 dict_values 객체가 return되는데 dict_values 객체 역시 dict_keys와 마찬가지로 리스트를 사용하는 것과 동일하게 사용하면 된다.\n",
        "\n"
      ]
    },
    {
      "cell_type": "code",
      "metadata": {
        "id": "SddByeMBAuXB",
        "colab_type": "code",
        "colab": {}
      },
      "source": [
        ""
      ],
      "execution_count": 0,
      "outputs": []
    },
    {
      "cell_type": "markdown",
      "metadata": {
        "id": "JSYxy3E1BK4w",
        "colab_type": "text"
      },
      "source": [
        "    - items\n",
        "\n",
        "        Key, Value 쌍 얻기\n",
        "\n",
        "            a.items()\n",
        "            #output dict_items([('name', 'pey'), ('phone', '0119993323'), ('birth', '1118')])\n",
        "\n",
        "        items 함수는 key와 value의 쌍을 튜플로 묶은 값을 dict_items 객체로 돌려준다.\n",
        "\n"
      ]
    },
    {
      "cell_type": "code",
      "metadata": {
        "id": "4MNBs7OLBjqu",
        "colab_type": "code",
        "colab": {}
      },
      "source": [
        ""
      ],
      "execution_count": 0,
      "outputs": []
    },
    {
      "cell_type": "markdown",
      "metadata": {
        "id": "UFOVFz3sBkAx",
        "colab_type": "text"
      },
      "source": [
        "    - clear\n",
        "\n",
        "        Key:Value 쌍 모두 지우기\n",
        "\n",
        "            a.clear()\n",
        "            a\n",
        "            #output {}\n"
      ]
    },
    {
      "cell_type": "code",
      "metadata": {
        "id": "R8MdlidbButf",
        "colab_type": "code",
        "colab": {}
      },
      "source": [
        ""
      ],
      "execution_count": 0,
      "outputs": []
    },
    {
      "cell_type": "markdown",
      "metadata": {
        "id": "PTeeSRtSBu-s",
        "colab_type": "text"
      },
      "source": [
        "\n",
        "    - get\n",
        "\n",
        "        Key로 Value 얻기\n",
        "\n",
        "            a = {'name':'pey', 'phone':'0119993323', 'birth':'1118'}\n",
        "            a.get('name')\n",
        "            #output 'pey'\n",
        "            \n",
        "            a.get('phone')\n",
        "            #output '0119993323'\n",
        "\n",
        "        get(x) 함수는 x라는 key에 대응되는 value를 돌려준다. \n",
        "        a.get('name')은 a['name']을 사용했을 때와 동일한 결과값을 돌려받는다.\n",
        "\n",
        "\n",
        "        다만, a['nokey']처럼 존재하지 않는 키로 값을 가져오려고 할 경우,\n",
        "        a['nokey']는 Key 오류를 발생시키고, a.get('nokey')는 None을 return한다는 차이가 있다.\n",
        "\n",
        "            a.get('nokey')\n",
        "            #output 'None'\n",
        "            \n",
        "            a['honey']\n",
        "            #output KeyError\n",
        "\n",
        "        딕셔너리 안에 찾으려는 key 값이 없을 경우, \n",
        "        미리 정해둔 디폴트 값을 대신 가져오게 하고 싶을 때에는 get(x, 'default 값')을 사용하면 편리하다.\n",
        "\n",
        "            a.get('foo', 'bar')\n",
        "            #output 'bar'\n",
        "\n",
        "        a 딕셔너리에는 'foo'에 해당하는 값이 없다. 따라서 디폴트 값인 'bar'를 리턴한다.\n",
        "\n"
      ]
    },
    {
      "cell_type": "code",
      "metadata": {
        "id": "eLihRMy7ByJ1",
        "colab_type": "code",
        "colab": {}
      },
      "source": [
        "# 딕셔너리를 만들어 준비하세요\n",
        "\n",
        "\n",
        "# get함수로 value를 얻어 봅시다.\n",
        "\n",
        "\n",
        "# get함수로 얻은 것과 dic['name']방법으로 얻은 값이 동일합니까?\n",
        "\n",
        "\n",
        "# 그런 key가 없다구요?\n",
        "\n",
        "\n",
        "# 없다면 default값을 지정해 봅시다.\n"
      ],
      "execution_count": 0,
      "outputs": []
    },
    {
      "cell_type": "markdown",
      "metadata": {
        "id": "wx-4cv1OByem",
        "colab_type": "text"
      },
      "source": [
        "    - in\n",
        "\n",
        "        해당 Key가 딕셔너리 안에 있는지 조사하기\n",
        "\n",
        "            a = {'name':'pey', 'phone':'0119993323', 'birth':'1118'}\n",
        "            'name' in a\n",
        "            #output True\n",
        "            'email' in a\n",
        "            #output False\n"
      ]
    },
    {
      "cell_type": "code",
      "metadata": {
        "id": "FDrPs1HCC4Gi",
        "colab_type": "code",
        "colab": {}
      },
      "source": [
        ""
      ],
      "execution_count": 0,
      "outputs": []
    },
    {
      "cell_type": "markdown",
      "metadata": {
        "id": "d7An3cdbiusg",
        "colab_type": "text"
      },
      "source": [
        "    - len()\n",
        "\n",
        "        해당 딕셔너리에 있는 key, values 쌍의 갯수를 return\n",
        "\n",
        "            a = {'name':'pey', 'phone':'0119993323', 'birth':'1118'}\n",
        "            len(a)\n",
        "            #output 3\n",
        "           \n"
      ]
    },
    {
      "cell_type": "code",
      "metadata": {
        "id": "R81UHoKoi5C_",
        "colab_type": "code",
        "colab": {}
      },
      "source": [
        ""
      ],
      "execution_count": 0,
      "outputs": []
    },
    {
      "cell_type": "markdown",
      "metadata": {
        "id": "baNLbZ05oUbS",
        "colab_type": "text"
      },
      "source": [
        "---\n",
        "# Data Type _ Set\n",
        "\n",
        "\n",
        "\n",
        "## 생성\n",
        "\n",
        "        s1 = set([1, 2, 3])\n",
        "        s1\n",
        "        #output {1, 2, 3}\n",
        "\n",
        "        s2 = set(\"Hello\")\n",
        "        s2\n",
        "        #output {'e','l', 'o', 'H'}\n",
        "        \n",
        "        s3 = {ch for ch in 'I love AI robotics KR'}\n",
        "        s3\n",
        "        #output {' ', 'A', 'I', 'K', 'R', 'b', 'c', 'e', 'i', 'l', 'o', 'r', 's', 't', 'v'}\n",
        "\n"
      ]
    },
    {
      "cell_type": "code",
      "metadata": {
        "id": "i6TLweXxpuuc",
        "colab_type": "code",
        "colab": {}
      },
      "source": [
        ""
      ],
      "execution_count": 0,
      "outputs": []
    },
    {
      "cell_type": "markdown",
      "metadata": {
        "id": "nlPeOYl_pvOx",
        "colab_type": "text"
      },
      "source": [
        "## 특징\n",
        "    1. 중복을 허용하지 않는다.\n",
        "    2. 순서가 없다\n",
        "\n",
        "        순서가 없기 때문에 indexing으로 값을 얻을 수 없다. \n",
        "        \n",
        "        만약 set 자료형에 저장된 값을 인덱싱으로 접근하려면?\n",
        "        다음과 같이 리스트나 튜플로 변환한 후 해야한다.\n",
        "\n",
        "            s1 = set([1, 2, 3])\n",
        "            l1 = list(s1)\n",
        "            #output [1, 2, 3]\n",
        "            l1[0]\n",
        "            #output 1\n",
        "            \n",
        "            t1 = tuple(s1)\n",
        "            t1\n",
        "            #output (1, 2, 3)\n",
        "            t1[0]\n",
        "            #output 1\n",
        "\n"
      ]
    },
    {
      "cell_type": "code",
      "metadata": {
        "id": "CmVTickMBMPu",
        "colab_type": "code",
        "colab": {}
      },
      "source": [
        "# set을 list 와 tuple로 만들어서 인덱싱을 해봅시다.\n",
        "\n",
        "\n"
      ],
      "execution_count": 0,
      "outputs": []
    },
    {
      "cell_type": "markdown",
      "metadata": {
        "id": "xA4Qn35gp2kC",
        "colab_type": "text"
      },
      "source": [
        "## 활용방법\n",
        "\n",
        "        s1 = set([1, 2, 3, 4, 5, 6])\n",
        "        s2 = set([4, 5, 6, 7, 8, 9])\n",
        "\n",
        "    - 교집합\n",
        "\n",
        "        * & 이용\n",
        "\n",
        "            s1 & s2\n",
        "            #output {4, 5, 6}\n",
        "\n",
        "        * intersection 함수 이용\n",
        "\n",
        "            s1.intersection(s2)\n",
        "            #output {4, 5, 6}\n",
        "\n",
        "    - 합집합\n",
        "\n",
        "        * | 이용\n",
        "\n",
        "            s1 | s2\n",
        "            #output {1, 2, 3, 4, 5, 6, 7, 8, 9}\n",
        "\n",
        "        * union 함수 이용\n",
        "\n",
        "            s1.union(s2)\n",
        "            #output {1, 2, 3, 4, 5, 6, 7, 8, 9}\n",
        "\n",
        "    - 차집합\n",
        "\n",
        "        * — 이용\n",
        "\n",
        "            s1 - s2\n",
        "            #output {1, 2, 3}\n",
        "            \n",
        "            s2 - s1\n",
        "            #output {8, 9, 7}\n",
        "\n",
        "        * difference 함수 이용\n",
        "\n",
        "            s1.difference(s2)\n",
        "            #output {1, 2, 3}\n",
        "            \n",
        "            s2.difference(s1)\n",
        "            #output {8, 9, 7}\n",
        "     \n",
        "     \n",
        "     - Symmetric Difference\n",
        "\n",
        "        * ^ 이용\n",
        "\n",
        "            s1 ^ s2\n",
        "            #output {1, 2, 3, 7, 8, 9}\n",
        "            \n",
        "\n",
        "        * symmetric_difference 함수 이용\n",
        "\n",
        "            s1.symmetric_difference(s2)\n",
        "            #output {1, 2, 3, 7, 8, 9}\n",
        "            \n",
        "            s2.symmetric_difference(s1)\n",
        "            #output {1, 2, 3, 7, 8, 9}\n",
        "            \n",
        "            \n",
        "\n"
      ]
    },
    {
      "cell_type": "code",
      "metadata": {
        "id": "2Df7sZJ-p70B",
        "colab_type": "code",
        "colab": {}
      },
      "source": [
        "# 교집합 방법 1\n",
        "\n",
        "\n",
        "# 교집합 방법 2\n",
        "\n",
        "\n",
        "# 합집합 방법 1\n",
        "\n",
        "\n",
        "# 합집합 방법 2\n",
        "\n",
        "\n",
        "# 차집합 방법 1\n",
        "\n",
        "\n",
        "# 차집합 방법 2\n",
        "\n",
        "\n",
        "# symmetric difference 1\n",
        "\n",
        "\n",
        "# symmetric difference 2\n",
        "\n"
      ],
      "execution_count": 0,
      "outputs": []
    },
    {
      "cell_type": "markdown",
      "metadata": {
        "id": "C-QZcxFxp8rA",
        "colab_type": "text"
      },
      "source": [
        "## 함수들\n",
        "    - add\n",
        "\n",
        "        1개 값 추가하기\n",
        "\n",
        "            s1 = set([1, 2, 3])\n",
        "            s1.add(4)\n",
        "            s1\n",
        "            #output {1, 2, 3, 4}\n",
        "\n"
      ]
    },
    {
      "cell_type": "code",
      "metadata": {
        "id": "KTGXxFKWqAug",
        "colab_type": "code",
        "colab": {}
      },
      "source": [
        ""
      ],
      "execution_count": 0,
      "outputs": []
    },
    {
      "cell_type": "markdown",
      "metadata": {
        "id": "IpFQQo-JFUiB",
        "colab_type": "text"
      },
      "source": [
        "    - update\n",
        "\n",
        "        여러 개의 값 추가하기\n",
        "\n",
        "            s1 = set([1, 2, 3])\n",
        "            s1. update([4, 5, 6])\n",
        "            s1\n",
        "            #output {1, 2, 3, 4, 5, 6}\n",
        "\n",
        " "
      ]
    },
    {
      "cell_type": "code",
      "metadata": {
        "id": "dGeYPr-AFU2i",
        "colab_type": "code",
        "colab": {}
      },
      "source": [
        ""
      ],
      "execution_count": 0,
      "outputs": []
    },
    {
      "cell_type": "markdown",
      "metadata": {
        "id": "dOc-fUwKFXRO",
        "colab_type": "text"
      },
      "source": [
        "    - remove\n",
        "\n",
        "        특정 값 제거하기\n",
        "\n",
        "            s1 = set([1, 2, 3])\n",
        "            s1.remove(2)\n",
        "            s1\n",
        "            #output {1, 3}"
      ]
    },
    {
      "cell_type": "code",
      "metadata": {
        "id": "h_FAxbZGFXnj",
        "colab_type": "code",
        "colab": {}
      },
      "source": [
        ""
      ],
      "execution_count": 0,
      "outputs": []
    },
    {
      "cell_type": "markdown",
      "metadata": {
        "id": "JVtAawZgqBbl",
        "colab_type": "text"
      },
      "source": [
        "---\n",
        "# Data Type _ Boolean\n",
        "\n",
        "\n",
        ">자료형 | 값 | 참 or 거짓\n",
        ">---|---|---\n",
        ">문자열 | \"python\"|참\n",
        "> | \"\" | 거짓\n",
        ">리스트|[1, 2, 3]|참\n",
        "> | []|거짓\n",
        "> 튜플|()|거짓\n",
        "> 딕셔너리|{}|거짓\n",
        "> 숫자형|0이 아닌 숫자|참\n",
        ">  |0|거짓\n",
        ">   | None | 거짓\n",
        "\n",
        "\n",
        "    None은 뒤에서 배우는데 일단 거짓을 뜻한다는 것을 알아두자.\n",
        "\n",
        "## While\n",
        "\n",
        "    a = [1, 2, 3, 4]\n",
        "    while a: # a가 참인 동안\n",
        "    \ta.pop() # 리스트의 마지막 요소를 하나씩 꺼낸다.\n",
        "    #output\n",
        "    #4\n",
        "    #3\n",
        "    #2\n",
        "    #1\n",
        "\n",
        "    while 조건문:\n",
        "    \t수행할 문장\n",
        "\n",
        "    이는 파이썬 프로그래밍에서 매우 자주 이용하는 기법 중 하나이다.\n",
        "\n"
      ]
    },
    {
      "cell_type": "code",
      "metadata": {
        "id": "gH4_Th0CqX03",
        "colab_type": "code",
        "colab": {}
      },
      "source": [
        "\n",
        "    "
      ],
      "execution_count": 0,
      "outputs": []
    },
    {
      "cell_type": "markdown",
      "metadata": {
        "id": "5rf1aRLWlVpx",
        "colab_type": "text"
      },
      "source": [
        "## if/elif/else\n",
        "\n",
        "    if 조건문 :\n",
        "        수행할 문장\n",
        "    else:\n",
        "        수행할 문장      \n",
        "        \n",
        "\n",
        "    if []:\n",
        "    \tprint(\"True\")\n",
        "    else:\n",
        "    \tprint(\"False\")\n",
        "    \n",
        "    #output False\n",
        "    \n",
        "    \n",
        "    if [1, 2, 3]:\n",
        "    \tprint(\"True\")\n",
        "    else:\n",
        "    \tprint(\"False\")\n",
        "    \n",
        "    #output True\n",
        "\n",
        "\n",
        "* 조건문은 얼마든지 늘릴 수 있다.  if -> elif -> else\n",
        "\n",
        "      if 조건문(1) :\n",
        "          수행할 문장\n",
        "      elif 조건문(2) :\n",
        "          수행할 문장\n",
        "      else:\n",
        "         수행할 문장"
      ]
    },
    {
      "cell_type": "code",
      "metadata": {
        "id": "RPRsHGPAlZ0Y",
        "colab_type": "code",
        "colab": {}
      },
      "source": [
        ""
      ],
      "execution_count": 0,
      "outputs": []
    },
    {
      "cell_type": "markdown",
      "metadata": {
        "id": "shQ1Wk_qI3Lg",
        "colab_type": "text"
      },
      "source": [
        "    bool() 함수로도 확인할 수 있다."
      ]
    },
    {
      "cell_type": "code",
      "metadata": {
        "id": "7axZcZ_pI9H-",
        "colab_type": "code",
        "colab": {}
      },
      "source": [
        ""
      ],
      "execution_count": 0,
      "outputs": []
    },
    {
      "cell_type": "markdown",
      "metadata": {
        "id": "G7_kgVfalbWN",
        "colab_type": "text"
      },
      "source": [
        "## 연산자로 참 거짓 판단\n",
        "\n",
        "\n",
        "\n",
        "```\n",
        "[1, 2, 3, 4] < [1, 2, 3, 0]\n",
        "#output False\n",
        "\n",
        "[1, 2, 3, 4] < [1, 2, 3, 4, 0]\n",
        "#output True\n",
        "\n",
        "[1, 2, 'one', 'two'] < [3, 4, 5, 6]\n",
        "#output True\n",
        "\n",
        "[1, 2, 'one', 'two'] < [1, 2, 5, 6]\n",
        "#output TypeError\n",
        "\n",
        "```\n",
        "\n"
      ]
    },
    {
      "cell_type": "code",
      "metadata": {
        "id": "dtsMkX0fmPhx",
        "colab_type": "code",
        "colab": {}
      },
      "source": [
        ""
      ],
      "execution_count": 0,
      "outputs": []
    },
    {
      "cell_type": "markdown",
      "metadata": {
        "id": "GffchobPqYcb",
        "colab_type": "text"
      },
      "source": [
        "\n",
        "\n",
        "---\n",
        "\n",
        "# Data Type_Variable\n",
        "\n",
        "    a = 1\n",
        "    b = \"python\"\n",
        "    c = [1, 2, 3]\n",
        "\n",
        "a, b, c를 변수라고 하고 =(assignment)기호를 사용한다.\n",
        "\n",
        "C나 Java처럼 변수의 자료형을 함께 쓸 필요가 없다. 파이썬은 변수에 저장된 값을 스스로 판단하여 자료형을 알아낸다.\n",
        "\n",
        "    변수명 = 변수에 저장할 값\n",
        "\n",
        "## 객체, 레퍼런스\n",
        "\n",
        "    파이썬에서 사용하는 변수는 객체를 가리키는 것이라고도 말할 수 있다. \n",
        "    객체란 우리가 지금껏 보아 왔던 자료형을 포함해 '파이썬에서 사용되는 모든 것'을 뜻하는 말이다.\n",
        "\n",
        "        a = 3\n",
        "\n",
        "    a -> 변수의 이름, 객체가 저장된 메모리 위치를 가리키는 Reference\n",
        "    3 -> 정수형 객체\n",
        "\n",
        "    - 파이썬에서 '3'은 상수가 아닌 <정수형 객체>이다.\n",
        "\n",
        "        파이썬의 모든 자료형은 객체이다. 그러므로 '3'은 우리가 일반적으로 생각하는 상수값이 아닌 하나의 '정수형 객체'이다. 따라서 a=3과 같이 선언하면 a.real처럼 내장 함수를 바로 사용할 수 있게 된다. C나 Java를 먼저 공부한 사람이라면 이 점이 헷갈릴 수 있다.\n",
        "\n",
        "        3의 자료형을 확인해보자. type은 입력받은 객체의 자료형을 알려주는 함수이다.\n",
        "\n",
        "            type(3)\n",
        "            #output <class 'int'>\n",
        "            \n",
        "            \n",
        "            a = 3\n",
        "            b = 3\n",
        "            a is b\n",
        "            #output True\n",
        "\n",
        "    a가 3을 가리키고 b도 3을 가리킨다. 이 두 변수는 가리키고 있는 대상이 동일하다.(파이썬 내장 함수인 is 함수를 a is b 처럼 실행했을 때 True를 return)\n",
        "\n",
        "    3의 reference count(참조 개수)는 2개이다. 만약 c=3이라고 한번 더 입력한다면 reference count는 3이 될 것이다.\n",
        "    \n",
        "    \n",
        "\n",
        "    - a, b, c는 정말 같은 객체를 가리키는 걸까?\n",
        "\n",
        "        파이썬에는 입력한 자료형에 대한 참조 개수를 알려주는 sys.getrefcount라는 함수가 있다.\n",
        "\n",
        "            import sys\n",
        "            sys.getrefcount(3)\n",
        "            #output 30\n",
        "\n",
        "        (맨 처음 인터프리터를 실행한 후, sys.getrefcount(3)을 수행했을 때 참조 개수가 30이 나오는 이유는 파이썬 내부적으로 3이라는 자료형을 이미 사용했기 때문)\n",
        "\n",
        "            a = 3\n",
        "            sys.getrecount(3)\n",
        "            #output 31\n",
        "            \n",
        "            b = 3\n",
        "            sys.getrecount(3)\n",
        "            #output 32\n",
        "            \n",
        "            c = 3\n",
        "            sys.getrecount(3)\n",
        "            #output 33\n",
        "\n"
      ]
    },
    {
      "cell_type": "code",
      "metadata": {
        "id": "UjYj6TgtrPoX",
        "colab_type": "code",
        "colab": {}
      },
      "source": [
        "# asssignment를 해봅시다.\n",
        "\n",
        "\n",
        "# type()으로 객체의 자료형을 알아봅시다.\n",
        "\n",
        "\n",
        "\n",
        "# reference count를 늘려봅시다.\n",
        "\n",
        "\n",
        "\n"
      ],
      "execution_count": 0,
      "outputs": []
    },
    {
      "cell_type": "markdown",
      "metadata": {
        "id": "Gsfh8aT_rQO6",
        "colab_type": "text"
      },
      "source": [
        "## assignment\n",
        "\n",
        "        a, b = ('python', 'life') #1 #list도?\n",
        "\n",
        "        (a, b) = 'python', 'life' #2 #list도?\n",
        "\n",
        "        [a, b] = ['python', 'life'] #3 #tuple도?\n",
        "        \n",
        "        a = b = 'python' #4\n",
        "\n",
        "        #5\n",
        "        \n",
        "        a = 3\n",
        "        b = 5\n",
        "        a,b = b,a\n",
        "        a\n",
        "        #output 5\n",
        "        b\n",
        "        #output 3\n",
        "\n",
        "\n"
      ]
    },
    {
      "cell_type": "code",
      "metadata": {
        "id": "ByTtzIOprTuv",
        "colab_type": "code",
        "colab": {}
      },
      "source": [
        "# 1\n",
        "\n",
        "\n",
        "# 2\n",
        "\n",
        "\n",
        "# 3\n",
        "\n",
        "\n",
        "# 4\n",
        "\n",
        "\n",
        "# 5\n",
        "\n"
      ],
      "execution_count": 0,
      "outputs": []
    },
    {
      "cell_type": "markdown",
      "metadata": {
        "id": "XKpbrJQkrUQ6",
        "colab_type": "text"
      },
      "source": [
        "## 메모리에 생성된 변수 삭제\n",
        "\n",
        "    3이라는 객체를 가리키는 변수들의 개수를 reference count라고 하였는데, 이 reference count가 0이 되는 순간 3이라는 객체는 자동으로 사라진다. = Garbage collection(쓰레기 수집)\n",
        "\n",
        "        a = 3\n",
        "        b = 3\n",
        "        del(a)\n",
        "        del(b)\n",
        "\n"
      ]
    },
    {
      "cell_type": "code",
      "metadata": {
        "id": "jYNyq30frX5-",
        "colab_type": "code",
        "colab": {}
      },
      "source": [
        "# sys.getrefcount(\"\")로 변화를 관찰해 봅시다.\n",
        "\n",
        "\n",
        "\n"
      ],
      "execution_count": 0,
      "outputs": []
    },
    {
      "cell_type": "markdown",
      "metadata": {
        "id": "IMSaBWnSrYdl",
        "colab_type": "text"
      },
      "source": [
        "## 리스트를 변수에 넣고 복사\n",
        "\n",
        "        a = [1, 2, 3]\n",
        "        b = a\n",
        "        a[1] = 4\n",
        "        a\n",
        "        #output [1, 4, 3]\n",
        "        \n",
        "        b\n",
        "        #output [1, 4, 3]\n",
        "\n",
        "    a,b 모두 같은 리스트인 [1, 2, 3]을 가리키고 있다. a, b는 이름만 다를 뿐이지 완전히 동일한 리스트를 가리키고 있는 변수이다.\n",
        "\n",
        "    - 그렇다면 b 변수를 생성할 때, a와 같은 값을 가지도록 복사해 넣으면서 a가 가리키는 리스트와는 다른 리스트를 가리키게 하는 방법은 없을까?\n",
        "    \n",
        "        1. [:] 이용\n",
        "\n",
        "                a = [1, 2, 3]\n",
        "                b = a[:]\n",
        "                a[1] = 4\n",
        "                a\n",
        "                #output [1, 4, 3]\n",
        "                b\n",
        "                #output [1, 2, 3]\n",
        "\n",
        "        2. copy 모듈\n",
        "\n",
        "                from copy import copy\n",
        "                b = copy(a)\n",
        "\n",
        "\n",
        "            두 변수가 같은 값을 가지면서 다른 객체를 제대로 생성했는지 확인 -> is 함수\n",
        "\n",
        "                b is a\n",
        "                #output False\n",
        "                \n",
        "            id()내장함수로도 확인할 수 있습니다.\n",
        "             \n"
      ]
    },
    {
      "cell_type": "markdown",
      "metadata": {
        "id": "-LhUqT12O6aB",
        "colab_type": "text"
      },
      "source": [
        "![대체 텍스트](https://t1.daumcdn.net/cfile/tistory/22685E33559CC0212E)"
      ]
    },
    {
      "cell_type": "code",
      "metadata": {
        "id": "MEnFeUzKrb8H",
        "colab_type": "code",
        "colab": {}
      },
      "source": [
        ""
      ],
      "execution_count": 0,
      "outputs": []
    },
    {
      "cell_type": "markdown",
      "metadata": {
        "id": "uH-JZB6tI5Kb",
        "colab_type": "text"
      },
      "source": [
        "수고하셨습니다. :) \n",
        "\n",
        "일주일 동안 기본예제와 응용예제도 잘 풀어서 python 실력을 높여봅시다!\n"
      ]
    }
  ]
}